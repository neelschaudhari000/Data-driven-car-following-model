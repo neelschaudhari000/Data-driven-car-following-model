{
    "cells": [
        {
            "cell_type": "code",
            "execution_count": 2,
            "metadata": {},
            "outputs": [
                {
                    "name": "stdout",
                    "output_type": "stream",
                    "text": [
                        "original File path: c:\\Users\\StudentAccount\\Python\\Capstone\\gitcodelocation\\DataDrivenCarFollowing\\datadrivencarfollowing-v1\\scripts\n",
                        "Data File path: c:\\Users\\StudentAccount\\Python\\Capstone\\gitcodelocation\\DataDrivenCarFollowing\\datadrivencarfollowing-v1\\data\n"
                    ]
                }
            ],
            "source": [
                "import numpy as np \n",
                "import pandas as pd \n",
                "import warnings\n",
                "warnings.filterwarnings(\"ignore\")\n",
                "\n",
                "#import src\n",
                "import Cleanup\n",
                "import Transformation\n",
                "import FileProcessing"
            ]
        },
        {
            "cell_type": "code",
            "execution_count": 3,
            "metadata": {},
            "outputs": [],
            "source": [
                "#define the objects to be called later. \n",
                "cleanup=Cleanup.Cleanup()\n",
                "transform=Transformation.Transformation()\n",
                "fileProcessing=FileProcessing.FileProcessing()"
            ]
        },
        {
            "cell_type": "markdown",
            "metadata": {},
            "source": [
                "Read the File from Data folder and remove all duplicates. "
            ]
        },
        {
            "cell_type": "code",
            "execution_count": 4,
            "metadata": {},
            "outputs": [
                {
                    "name": "stdout",
                    "output_type": "stream",
                    "text": [
                        "File Read Complete: c:\\Users\\StudentAccount\\Python\\Capstone\\gitcodelocation\\DataDrivenCarFollowing\\datadrivencarfollowing-v1\\data/Next_Generation_Simulation__NGSIM__Vehicle_Trajectories_and_Supporting_Data.csv\n"
                    ]
                }
            ],
            "source": [
                "file_name='Next_Generation_Simulation__NGSIM__Vehicle_Trajectories_and_Supporting_Data'\n",
                "ngsim=fileProcessing.read_input(file_name)"
            ]
        },
        {
            "cell_type": "markdown",
            "metadata": {},
            "source": [
                "Remove any Duplicate records from the original File. "
            ]
        },
        {
            "cell_type": "code",
            "execution_count": 5,
            "metadata": {},
            "outputs": [
                {
                    "name": "stdout",
                    "output_type": "stream",
                    "text": [
                        "704000 duplicate values have been removed\n"
                    ]
                },
                {
                    "data": {
                        "text/html": [
                            "<div>\n",
                            "<style scoped>\n",
                            "    .dataframe tbody tr th:only-of-type {\n",
                            "        vertical-align: middle;\n",
                            "    }\n",
                            "\n",
                            "    .dataframe tbody tr th {\n",
                            "        vertical-align: top;\n",
                            "    }\n",
                            "\n",
                            "    .dataframe thead th {\n",
                            "        text-align: right;\n",
                            "    }\n",
                            "</style>\n",
                            "<table border=\"1\" class=\"dataframe\">\n",
                            "  <thead>\n",
                            "    <tr style=\"text-align: right;\">\n",
                            "      <th></th>\n",
                            "      <th>Vehicle_ID</th>\n",
                            "      <th>Frame_ID</th>\n",
                            "      <th>Total_Frames</th>\n",
                            "      <th>Global_Time</th>\n",
                            "      <th>Local_X</th>\n",
                            "      <th>Local_Y</th>\n",
                            "      <th>Global_X</th>\n",
                            "      <th>Global_Y</th>\n",
                            "      <th>v_length</th>\n",
                            "      <th>v_Width</th>\n",
                            "      <th>...</th>\n",
                            "      <th>D_Zone</th>\n",
                            "      <th>Int_ID</th>\n",
                            "      <th>Section_ID</th>\n",
                            "      <th>Direction</th>\n",
                            "      <th>Movement</th>\n",
                            "      <th>Preceding</th>\n",
                            "      <th>Following</th>\n",
                            "      <th>Space_Headway</th>\n",
                            "      <th>Time_Headway</th>\n",
                            "      <th>Location</th>\n",
                            "    </tr>\n",
                            "  </thead>\n",
                            "  <tbody>\n",
                            "    <tr>\n",
                            "      <th>0</th>\n",
                            "      <td>515</td>\n",
                            "      <td>2330</td>\n",
                            "      <td>1123</td>\n",
                            "      <td>1118848075000</td>\n",
                            "      <td>30.034</td>\n",
                            "      <td>188.062</td>\n",
                            "      <td>6451203.729</td>\n",
                            "      <td>1873252.549</td>\n",
                            "      <td>13.0</td>\n",
                            "      <td>6.9</td>\n",
                            "      <td>...</td>\n",
                            "      <td>NaN</td>\n",
                            "      <td>NaN</td>\n",
                            "      <td>NaN</td>\n",
                            "      <td>NaN</td>\n",
                            "      <td>NaN</td>\n",
                            "      <td>500</td>\n",
                            "      <td>523</td>\n",
                            "      <td>119.10</td>\n",
                            "      <td>5.11</td>\n",
                            "      <td>us-101</td>\n",
                            "    </tr>\n",
                            "    <tr>\n",
                            "      <th>2</th>\n",
                            "      <td>2224</td>\n",
                            "      <td>6548</td>\n",
                            "      <td>1902</td>\n",
                            "      <td>1113437421700</td>\n",
                            "      <td>41.429</td>\n",
                            "      <td>472.901</td>\n",
                            "      <td>6042814.264</td>\n",
                            "      <td>2133542.012</td>\n",
                            "      <td>14.3</td>\n",
                            "      <td>6.9</td>\n",
                            "      <td>...</td>\n",
                            "      <td>NaN</td>\n",
                            "      <td>NaN</td>\n",
                            "      <td>NaN</td>\n",
                            "      <td>NaN</td>\n",
                            "      <td>NaN</td>\n",
                            "      <td>2208</td>\n",
                            "      <td>2211</td>\n",
                            "      <td>53.34</td>\n",
                            "      <td>2.01</td>\n",
                            "      <td>i-80</td>\n",
                            "    </tr>\n",
                            "    <tr>\n",
                            "      <th>3</th>\n",
                            "      <td>2127</td>\n",
                            "      <td>6459</td>\n",
                            "      <td>567</td>\n",
                            "      <td>1118847624800</td>\n",
                            "      <td>19.632</td>\n",
                            "      <td>1775.614</td>\n",
                            "      <td>6452425.122</td>\n",
                            "      <td>1872172.475</td>\n",
                            "      <td>13.5</td>\n",
                            "      <td>6.9</td>\n",
                            "      <td>...</td>\n",
                            "      <td>NaN</td>\n",
                            "      <td>NaN</td>\n",
                            "      <td>NaN</td>\n",
                            "      <td>NaN</td>\n",
                            "      <td>NaN</td>\n",
                            "      <td>2124</td>\n",
                            "      <td>2132</td>\n",
                            "      <td>48.92</td>\n",
                            "      <td>1.30</td>\n",
                            "      <td>us-101</td>\n",
                            "    </tr>\n",
                            "    <tr>\n",
                            "      <th>4</th>\n",
                            "      <td>1033</td>\n",
                            "      <td>4827</td>\n",
                            "      <td>592</td>\n",
                            "      <td>1118848324700</td>\n",
                            "      <td>6.202</td>\n",
                            "      <td>1701.144</td>\n",
                            "      <td>6452347.673</td>\n",
                            "      <td>1872258.452</td>\n",
                            "      <td>13.5</td>\n",
                            "      <td>4.4</td>\n",
                            "      <td>...</td>\n",
                            "      <td>NaN</td>\n",
                            "      <td>NaN</td>\n",
                            "      <td>NaN</td>\n",
                            "      <td>NaN</td>\n",
                            "      <td>NaN</td>\n",
                            "      <td>1029</td>\n",
                            "      <td>1040</td>\n",
                            "      <td>38.81</td>\n",
                            "      <td>0.92</td>\n",
                            "      <td>us-101</td>\n",
                            "    </tr>\n",
                            "    <tr>\n",
                            "      <th>6</th>\n",
                            "      <td>1890</td>\n",
                            "      <td>9157</td>\n",
                            "      <td>628</td>\n",
                            "      <td>1118849672700</td>\n",
                            "      <td>53.514</td>\n",
                            "      <td>817.521</td>\n",
                            "      <td>6451655.238</td>\n",
                            "      <td>1872800.663</td>\n",
                            "      <td>24.0</td>\n",
                            "      <td>8.5</td>\n",
                            "      <td>...</td>\n",
                            "      <td>NaN</td>\n",
                            "      <td>NaN</td>\n",
                            "      <td>NaN</td>\n",
                            "      <td>NaN</td>\n",
                            "      <td>NaN</td>\n",
                            "      <td>1882</td>\n",
                            "      <td>1897</td>\n",
                            "      <td>102.65</td>\n",
                            "      <td>2.27</td>\n",
                            "      <td>us-101</td>\n",
                            "    </tr>\n",
                            "    <tr>\n",
                            "      <th>...</th>\n",
                            "      <td>...</td>\n",
                            "      <td>...</td>\n",
                            "      <td>...</td>\n",
                            "      <td>...</td>\n",
                            "      <td>...</td>\n",
                            "      <td>...</td>\n",
                            "      <td>...</td>\n",
                            "      <td>...</td>\n",
                            "      <td>...</td>\n",
                            "      <td>...</td>\n",
                            "      <td>...</td>\n",
                            "      <td>...</td>\n",
                            "      <td>...</td>\n",
                            "      <td>...</td>\n",
                            "      <td>...</td>\n",
                            "      <td>...</td>\n",
                            "      <td>...</td>\n",
                            "      <td>...</td>\n",
                            "      <td>...</td>\n",
                            "      <td>...</td>\n",
                            "      <td>...</td>\n",
                            "    </tr>\n",
                            "    <tr>\n",
                            "      <th>11850521</th>\n",
                            "      <td>1355</td>\n",
                            "      <td>5622</td>\n",
                            "      <td>938</td>\n",
                            "      <td>1113438127100</td>\n",
                            "      <td>18.275</td>\n",
                            "      <td>1464.336</td>\n",
                            "      <td>6042648.149</td>\n",
                            "      <td>2134520.896</td>\n",
                            "      <td>12.3</td>\n",
                            "      <td>6.8</td>\n",
                            "      <td>...</td>\n",
                            "      <td>NaN</td>\n",
                            "      <td>NaN</td>\n",
                            "      <td>NaN</td>\n",
                            "      <td>NaN</td>\n",
                            "      <td>NaN</td>\n",
                            "      <td>1351</td>\n",
                            "      <td>1361</td>\n",
                            "      <td>26.91</td>\n",
                            "      <td>15.92</td>\n",
                            "      <td>i-80</td>\n",
                            "    </tr>\n",
                            "    <tr>\n",
                            "      <th>11850522</th>\n",
                            "      <td>1474</td>\n",
                            "      <td>5688</td>\n",
                            "      <td>401</td>\n",
                            "      <td>1113438133700</td>\n",
                            "      <td>5.509</td>\n",
                            "      <td>560.412</td>\n",
                            "      <td>6042767.840</td>\n",
                            "      <td>2133624.549</td>\n",
                            "      <td>17.8</td>\n",
                            "      <td>7.9</td>\n",
                            "      <td>...</td>\n",
                            "      <td>NaN</td>\n",
                            "      <td>NaN</td>\n",
                            "      <td>NaN</td>\n",
                            "      <td>NaN</td>\n",
                            "      <td>NaN</td>\n",
                            "      <td>1468</td>\n",
                            "      <td>1480</td>\n",
                            "      <td>74.49</td>\n",
                            "      <td>1.73</td>\n",
                            "      <td>i-80</td>\n",
                            "    </tr>\n",
                            "    <tr>\n",
                            "      <th>11850523</th>\n",
                            "      <td>398</td>\n",
                            "      <td>2368</td>\n",
                            "      <td>654</td>\n",
                            "      <td>1113437801700</td>\n",
                            "      <td>18.903</td>\n",
                            "      <td>635.841</td>\n",
                            "      <td>6042771.741</td>\n",
                            "      <td>2133701.076</td>\n",
                            "      <td>15.2</td>\n",
                            "      <td>8.5</td>\n",
                            "      <td>...</td>\n",
                            "      <td>NaN</td>\n",
                            "      <td>NaN</td>\n",
                            "      <td>NaN</td>\n",
                            "      <td>NaN</td>\n",
                            "      <td>NaN</td>\n",
                            "      <td>385</td>\n",
                            "      <td>406</td>\n",
                            "      <td>90.95</td>\n",
                            "      <td>3.77</td>\n",
                            "      <td>i-80</td>\n",
                            "    </tr>\n",
                            "    <tr>\n",
                            "      <th>11850524</th>\n",
                            "      <td>599</td>\n",
                            "      <td>875</td>\n",
                            "      <td>577</td>\n",
                            "      <td>1113436854400</td>\n",
                            "      <td>77.094</td>\n",
                            "      <td>621.358</td>\n",
                            "      <td>6042831.282</td>\n",
                            "      <td>2133693.854</td>\n",
                            "      <td>15.3</td>\n",
                            "      <td>6.4</td>\n",
                            "      <td>...</td>\n",
                            "      <td>NaN</td>\n",
                            "      <td>NaN</td>\n",
                            "      <td>NaN</td>\n",
                            "      <td>NaN</td>\n",
                            "      <td>NaN</td>\n",
                            "      <td>0</td>\n",
                            "      <td>611</td>\n",
                            "      <td>0.00</td>\n",
                            "      <td>0.00</td>\n",
                            "      <td>i-80</td>\n",
                            "    </tr>\n",
                            "    <tr>\n",
                            "      <th>11850525</th>\n",
                            "      <td>2006</td>\n",
                            "      <td>6461</td>\n",
                            "      <td>879</td>\n",
                            "      <td>1113437413000</td>\n",
                            "      <td>73.816</td>\n",
                            "      <td>695.035</td>\n",
                            "      <td>6042818.859</td>\n",
                            "      <td>2133766.666</td>\n",
                            "      <td>14.8</td>\n",
                            "      <td>6.9</td>\n",
                            "      <td>...</td>\n",
                            "      <td>NaN</td>\n",
                            "      <td>NaN</td>\n",
                            "      <td>NaN</td>\n",
                            "      <td>NaN</td>\n",
                            "      <td>NaN</td>\n",
                            "      <td>2009</td>\n",
                            "      <td>2014</td>\n",
                            "      <td>25.47</td>\n",
                            "      <td>2.26</td>\n",
                            "      <td>i-80</td>\n",
                            "    </tr>\n",
                            "  </tbody>\n",
                            "</table>\n",
                            "<p>11146526 rows × 25 columns</p>\n",
                            "</div>"
                        ],
                        "text/plain": [
                            "          Vehicle_ID  Frame_ID  Total_Frames    Global_Time  Local_X  \\\n",
                            "0                515      2330          1123  1118848075000   30.034   \n",
                            "2               2224      6548          1902  1113437421700   41.429   \n",
                            "3               2127      6459           567  1118847624800   19.632   \n",
                            "4               1033      4827           592  1118848324700    6.202   \n",
                            "6               1890      9157           628  1118849672700   53.514   \n",
                            "...              ...       ...           ...            ...      ...   \n",
                            "11850521        1355      5622           938  1113438127100   18.275   \n",
                            "11850522        1474      5688           401  1113438133700    5.509   \n",
                            "11850523         398      2368           654  1113437801700   18.903   \n",
                            "11850524         599       875           577  1113436854400   77.094   \n",
                            "11850525        2006      6461           879  1113437413000   73.816   \n",
                            "\n",
                            "           Local_Y     Global_X     Global_Y  v_length  v_Width  ...  D_Zone  \\\n",
                            "0          188.062  6451203.729  1873252.549      13.0      6.9  ...     NaN   \n",
                            "2          472.901  6042814.264  2133542.012      14.3      6.9  ...     NaN   \n",
                            "3         1775.614  6452425.122  1872172.475      13.5      6.9  ...     NaN   \n",
                            "4         1701.144  6452347.673  1872258.452      13.5      4.4  ...     NaN   \n",
                            "6          817.521  6451655.238  1872800.663      24.0      8.5  ...     NaN   \n",
                            "...            ...          ...          ...       ...      ...  ...     ...   \n",
                            "11850521  1464.336  6042648.149  2134520.896      12.3      6.8  ...     NaN   \n",
                            "11850522   560.412  6042767.840  2133624.549      17.8      7.9  ...     NaN   \n",
                            "11850523   635.841  6042771.741  2133701.076      15.2      8.5  ...     NaN   \n",
                            "11850524   621.358  6042831.282  2133693.854      15.3      6.4  ...     NaN   \n",
                            "11850525   695.035  6042818.859  2133766.666      14.8      6.9  ...     NaN   \n",
                            "\n",
                            "          Int_ID  Section_ID  Direction  Movement  Preceding  Following  \\\n",
                            "0            NaN         NaN        NaN       NaN        500        523   \n",
                            "2            NaN         NaN        NaN       NaN       2208       2211   \n",
                            "3            NaN         NaN        NaN       NaN       2124       2132   \n",
                            "4            NaN         NaN        NaN       NaN       1029       1040   \n",
                            "6            NaN         NaN        NaN       NaN       1882       1897   \n",
                            "...          ...         ...        ...       ...        ...        ...   \n",
                            "11850521     NaN         NaN        NaN       NaN       1351       1361   \n",
                            "11850522     NaN         NaN        NaN       NaN       1468       1480   \n",
                            "11850523     NaN         NaN        NaN       NaN        385        406   \n",
                            "11850524     NaN         NaN        NaN       NaN          0        611   \n",
                            "11850525     NaN         NaN        NaN       NaN       2009       2014   \n",
                            "\n",
                            "          Space_Headway  Time_Headway  Location  \n",
                            "0                119.10          5.11    us-101  \n",
                            "2                 53.34          2.01      i-80  \n",
                            "3                 48.92          1.30    us-101  \n",
                            "4                 38.81          0.92    us-101  \n",
                            "6                102.65          2.27    us-101  \n",
                            "...                 ...           ...       ...  \n",
                            "11850521          26.91         15.92      i-80  \n",
                            "11850522          74.49          1.73      i-80  \n",
                            "11850523          90.95          3.77      i-80  \n",
                            "11850524           0.00          0.00      i-80  \n",
                            "11850525          25.47          2.26      i-80  \n",
                            "\n",
                            "[11146526 rows x 25 columns]"
                        ]
                    },
                    "execution_count": 5,
                    "metadata": {},
                    "output_type": "execute_result"
                }
            ],
            "source": [
                "cleanup.remove_dups(ngsim)"
            ]
        },
        {
            "cell_type": "markdown",
            "metadata": {},
            "source": [
                "Feet to Metres:\n",
                "\n",
                "Below Four parametrs consider distance in Feet and they are converted to metre. Speed to Metre/ second from Feet/second and acceleration from feet/second Square to Metre/Second Square. \n",
                "\n",
                "Drop the columns we wont use in the model.\n",
                "Add Relative time which is the time from the first timframe in the dataset. This is calculated by using the minimum value ofGlobal time(absolute time from 1970)"
            ]
        },
        {
            "cell_type": "code",
            "execution_count": 6,
            "metadata": {},
            "outputs": [],
            "source": [
                "ngsim=transform.convert_feet_to_metre(ngsim)"
            ]
        },
        {
            "cell_type": "code",
            "execution_count": 7,
            "metadata": {},
            "outputs": [
                {
                    "data": {
                        "text/plain": [
                            "(11146526, 25)"
                        ]
                    },
                    "execution_count": 7,
                    "metadata": {},
                    "output_type": "execute_result"
                }
            ],
            "source": [
                "ngsim.shape"
            ]
        },
        {
            "cell_type": "code",
            "execution_count": 8,
            "metadata": {},
            "outputs": [],
            "source": [
                "ngsim=transform.drop_not_required_columns(ngsim)"
            ]
        },
        {
            "cell_type": "markdown",
            "metadata": {},
            "source": [
                "Create Placeholders for the user defined columns we will be populating later, to be used in the model. \n",
                "Map the Vehicle classes to their english equivalent. \n",
                "Filter the original file into US-101 and I-80 to perform and populate the required fields later. These files contain same values of Vehicle ID used for multiple vehicles based on the highway. \n",
                "\n"
            ]
        },
        {
            "cell_type": "code",
            "execution_count": 9,
            "metadata": {},
            "outputs": [],
            "source": [
                "ngsim=transform.create_column_placeholders(ngsim)"
            ]
        },
        {
            "cell_type": "markdown",
            "metadata": {},
            "source": [
                "Split data into US-101 and I-80 specific dataframes."
            ]
        },
        {
            "cell_type": "code",
            "execution_count": 10,
            "metadata": {},
            "outputs": [],
            "source": [
                "filtered_ngsim_U,filtered_ngsim_I = transform.bifurcate_highways(ngsim)"
            ]
        },
        {
            "cell_type": "markdown",
            "metadata": {},
            "source": [
                "Create Sets to use and create the L-F Pairs. "
            ]
        },
        {
            "cell_type": "code",
            "execution_count": 11,
            "metadata": {},
            "outputs": [],
            "source": [
                "v_Class_M_U,v_Class_C_U,v_Class_HV_U = transform.class_vehicle_sets(filtered_ngsim_U)\n",
                "v_Class_M_I,v_Class_C_I,v_Class_HV_I = transform.class_vehicle_sets(filtered_ngsim_I)\n"
            ]
        },
        {
            "cell_type": "markdown",
            "metadata": {},
            "source": [
                "Add the Preceding Vehicle Class to the new previous class column"
            ]
        },
        {
            "cell_type": "code",
            "execution_count": 12,
            "metadata": {},
            "outputs": [],
            "source": [
                "filtered_ngsim_U=transform.preceding_vehicle_class(filtered_ngsim_U,v_Class_M_U,v_Class_C_U,v_Class_HV_U)\n",
                "filtered_ngsim_I=transform.preceding_vehicle_class(filtered_ngsim_I,v_Class_M_I,v_Class_C_I,v_Class_HV_I)"
            ]
        },
        {
            "cell_type": "markdown",
            "metadata": {},
            "source": [
                "Map the Vehicle Length of the previous vehicle into the row. "
            ]
        },
        {
            "cell_type": "code",
            "execution_count": 13,
            "metadata": {},
            "outputs": [],
            "source": [
                "filtered_ngsim_U=transform.preceding_vehicle_length(filtered_ngsim_U)\n",
                "filtered_ngsim_I=transform.preceding_vehicle_length(filtered_ngsim_I)"
            ]
        },
        {
            "cell_type": "markdown",
            "metadata": {},
            "source": [
                "Convert the Front to Front Space Headway to Back Bumper (preceding Vehicle) to front Bumper(of Following ) Headway. This will give the actual distance between the vehicle ignoring the vehicle length.\n",
                "Find the time it would take for the Following vehicle to reach the rear Bumper of the Preceding Vehicle. "
            ]
        },
        {
            "cell_type": "code",
            "execution_count": 14,
            "metadata": {},
            "outputs": [],
            "source": [
                "filtered_ngsim_U= transform.front_to_front_bumper_details_changed_to_rear_to_front_bumper_details(filtered_ngsim_U)\n",
                "filtered_ngsim_I= transform.front_to_front_bumper_details_changed_to_rear_to_front_bumper_details(filtered_ngsim_I)"
            ]
        },
        {
            "cell_type": "markdown",
            "metadata": {},
            "source": [
                "Vehicle Combination of the Preceding and the Following Vehicle. Populate the Previous vehicle details with Subject vehicle Details"
            ]
        },
        {
            "cell_type": "code",
            "execution_count": 15,
            "metadata": {},
            "outputs": [],
            "source": [
                "filtered_ngsim_U=transform.map_preceding_vehicle_details(filtered_ngsim_U)\n",
                "filtered_ngsim_I=transform.map_preceding_vehicle_details(filtered_ngsim_I)\n",
                "filtered_ngsim_U=transform.time_pairs(filtered_ngsim_U)\n",
                "filtered_ngsim_I=transform.time_pairs(filtered_ngsim_I)"
            ]
        },
        {
            "cell_type": "markdown",
            "metadata": {},
            "source": [
                "Filter the vehicles based on the filteration criterias:\n",
                "\n",
                "- Remove all Vehicles which have bad Vehicle Length and Type. i.e. same vehicle having two vehicle Types in different pair information.\n",
                "- Remove first 5 seconds for a Pair when Lead Vehicle is overtaking. Last 5 from the pair which the vehicle is leaving(same vehicle was Subject in that scneario).\n",
                "- Remove Lane 4 and above as they are shoulders/ramps and exits. \n",
                "- Remove trajectories which are less than 30 seconds. \n"
            ]
        },
        {
            "cell_type": "code",
            "execution_count": 16,
            "metadata": {},
            "outputs": [
                {
                    "name": "stdout",
                    "output_type": "stream",
                    "text": [
                        "dataset before Row Removal(4098933, 35)\n",
                        "us-101: 154876 vehicles first and Last 5 seconds removed from Lane 1 due to lane changing\n",
                        "us-101: 194882 vehicles first and Last 5 seconds removed from Lane 2 due to lane changing\n",
                        "us-101: 195007 vehicles first and Last 5 seconds removed from Lane 3 due to lane changing\n",
                        "us-101: 530853 have multiple lengths and classes for same Vehicle ID\n",
                        "us-101: 780619 have total car following less than 30 seconds\n",
                        "us-101: 137686 have time Headway less than 5 seconds\n",
                        "us-101: 1598920 have Lane ID as 7 or 8 which are the Ramps\n",
                        "us-101: 2521752 rows removed using above criterias\n",
                        "dataset before Row Removal(4566387, 35)\n",
                        "i-80: 153820 vehicles first and Last 5 seconds removed from Lane 1 due to lane changing\n",
                        "i-80: 157225 vehicles first and Last 5 seconds removed from Lane 2 due to lane changing\n",
                        "i-80: 163719 vehicles first and Last 5 seconds removed from Lane 3 due to lane changing\n",
                        "i-80: 830630 have multiple lengths and classes for same Vehicle ID\n",
                        "i-80: 940574 have total car following less than 30 seconds\n",
                        "i-80: 403427 have time Headway less than 5 seconds\n",
                        "i-80: 2611277 have Lane ID as 7 or 8 which are the Ramps\n",
                        "i-80: 3574380 rows removed using above criterias\n"
                    ]
                }
            ],
            "source": [
                "filtered_ngsim_U=cleanup.filter_records_for_model(filtered_ngsim_U)\n",
                "filtered_ngsim_I=cleanup.filter_records_for_model(filtered_ngsim_I)"
            ]
        },
        {
            "cell_type": "markdown",
            "metadata": {},
            "source": [
                "\n",
                "1. Velocity difference of the Lead minus Preceding Vehicle.\n",
                "2. Acceleration difference of the Lead minus Preceding Vehicle.\n",
                "3. Find the Pair details of the Lead_following \n",
                "4. Find the cumulative time the Pair runs within the highway as a pair. "
            ]
        },
        {
            "cell_type": "code",
            "execution_count": 17,
            "metadata": {},
            "outputs": [],
            "source": [
                "\n",
                "filtered_ngsim_U=transform.remap_pair_time(filtered_ngsim_U)\n",
                "filtered_ngsim_I=transform.remap_pair_time(filtered_ngsim_I)"
            ]
        },
        {
            "cell_type": "markdown",
            "metadata": {},
            "source": [
                "Merge the I 80 and US-110 Highway cleaned files. "
            ]
        },
        {
            "cell_type": "code",
            "execution_count": 18,
            "metadata": {},
            "outputs": [
                {
                    "name": "stdout",
                    "output_type": "stream",
                    "text": [
                        " Merged Record Count:2569188, df1:1577181, df2:992007\n"
                    ]
                }
            ],
            "source": [
                "cleaned_NGSIM= fileProcessing.merge_files(filtered_ngsim_U , filtered_ngsim_I)\n"
            ]
        },
        {
            "cell_type": "markdown",
            "metadata": {},
            "source": [
                "Export the Cleaned NGSIM File- The below can be used in case Cleaned Data is required. "
            ]
        },
        {
            "cell_type": "code",
            "execution_count": 19,
            "metadata": {},
            "outputs": [
                {
                    "data": {
                        "text/plain": [
                            "True"
                        ]
                    },
                    "execution_count": 19,
                    "metadata": {},
                    "output_type": "execute_result"
                }
            ],
            "source": [
                "fileProcessing.export_file(cleaned_NGSIM,'Cleaned_NGSIM_Data')"
            ]
        },
        {
            "cell_type": "markdown",
            "metadata": {},
            "source": [
                "Create the Sample Trajectory Pairs to view the results of the Car Following Model. \n",
                "3 Pair for Each Type of Pairs that remain in the Cleaned File. "
            ]
        },
        {
            "cell_type": "code",
            "execution_count": 20,
            "metadata": {},
            "outputs": [
                {
                    "data": {
                        "text/plain": [
                            "Vehicle_combination  L-F_Pair \n",
                            "Car-Car              2054-2057    366.8\n",
                            "                     1841-1848    294.9\n",
                            "                     1881-1889    244.2\n",
                            "                     1668-1676    232.2\n",
                            "                     1839-1849    229.6\n",
                            "                                  ...  \n",
                            "                     1032-1038     30.0\n",
                            "                     1436-1442     30.0\n",
                            "                     1216-1221     30.0\n",
                            "                     3215-3225     30.0\n",
                            "                     1103-1111     30.0\n",
                            "Name: total_pair_duration, Length: 4806, dtype: float64"
                        ]
                    },
                    "execution_count": 20,
                    "metadata": {},
                    "output_type": "execute_result"
                }
            ],
            "source": [
                "x=cleaned_NGSIM.groupby(['Vehicle_combination','L-F_Pair'])['total_pair_duration'].max().sort_values(ascending=False)\n",
                "x"
            ]
        },
        {
            "cell_type": "code",
            "execution_count": 21,
            "metadata": {},
            "outputs": [
                {
                    "data": {
                        "text/plain": [
                            "array(['2695-2725', '3084-3094', '551-560'], dtype=object)"
                        ]
                    },
                    "execution_count": 21,
                    "metadata": {},
                    "output_type": "execute_result"
                }
            ],
            "source": [
                "x_hv_car=x[x.index.get_level_values('Vehicle_combination').isin(['Heavy Vehicle-Car'])]\n",
                "hv_car_pair= x_hv_car[x_hv_car>60].tail(3).index.get_level_values('L-F_Pair').values\n",
                "hv_car_pair\n"
            ]
        },
        {
            "cell_type": "code",
            "execution_count": 22,
            "metadata": {},
            "outputs": [
                {
                    "data": {
                        "text/plain": [
                            "array(['1304-1309', '439-444', '1635-1642'], dtype=object)"
                        ]
                    },
                    "execution_count": 22,
                    "metadata": {},
                    "output_type": "execute_result"
                }
            ],
            "source": [
                "x_car_car=x[x.index.get_level_values('Vehicle_combination').isin(['Car-Car'])]\n",
                "Car_car_pair= x_car_car[x_car_car>60].tail(3).index.get_level_values('L-F_Pair').values\n",
                "Car_car_pair\n"
            ]
        },
        {
            "cell_type": "code",
            "execution_count": 23,
            "metadata": {},
            "outputs": [
                {
                    "data": {
                        "text/plain": [
                            "array(['2322-2330', '2785-2804', '2725-2717'], dtype=object)"
                        ]
                    },
                    "execution_count": 23,
                    "metadata": {},
                    "output_type": "execute_result"
                }
            ],
            "source": [
                "x_car_hv=x[x.index.get_level_values('Vehicle_combination').isin(['Car-Heavy Vehicle'])]\n",
                "car_hv_pair= x_car_hv[x_car_hv>60].tail(3).index.get_level_values('L-F_Pair').values\n",
                "car_hv_pair\n"
            ]
        },
        {
            "cell_type": "code",
            "execution_count": 24,
            "metadata": {},
            "outputs": [],
            "source": [
                "trajectory_pairs=cleaned_NGSIM[cleaned_NGSIM['L-F_Pair'].isin(car_hv_pair )|cleaned_NGSIM['L-F_Pair'].isin(Car_car_pair)|cleaned_NGSIM['L-F_Pair'].isin(hv_car_pair)]"
            ]
        },
        {
            "cell_type": "code",
            "execution_count": 25,
            "metadata": {},
            "outputs": [
                {
                    "data": {
                        "text/html": [
                            "<div>\n",
                            "<style scoped>\n",
                            "    .dataframe tbody tr th:only-of-type {\n",
                            "        vertical-align: middle;\n",
                            "    }\n",
                            "\n",
                            "    .dataframe tbody tr th {\n",
                            "        vertical-align: top;\n",
                            "    }\n",
                            "\n",
                            "    .dataframe thead th {\n",
                            "        text-align: right;\n",
                            "    }\n",
                            "</style>\n",
                            "<table border=\"1\" class=\"dataframe\">\n",
                            "  <thead>\n",
                            "    <tr style=\"text-align: right;\">\n",
                            "      <th></th>\n",
                            "      <th>Vehicle_ID</th>\n",
                            "      <th>Frame_ID</th>\n",
                            "      <th>Global_Time</th>\n",
                            "      <th>Local_X</th>\n",
                            "      <th>Local_Y</th>\n",
                            "      <th>v_length</th>\n",
                            "      <th>v_Class</th>\n",
                            "      <th>v_Vel</th>\n",
                            "      <th>v_Acc</th>\n",
                            "      <th>Lane_ID</th>\n",
                            "      <th>...</th>\n",
                            "      <th>lane_changes</th>\n",
                            "      <th>preceding_Vehicle_Velocity</th>\n",
                            "      <th>preceding_Vehicle_Acceleration</th>\n",
                            "      <th>preceding_car_lane_changes</th>\n",
                            "      <th>preceding_Local_Y</th>\n",
                            "      <th>preceding_v_Class</th>\n",
                            "      <th>jerk</th>\n",
                            "      <th>total_pair_duration</th>\n",
                            "      <th>pair_Time_Duration</th>\n",
                            "      <th>total_pair_dur</th>\n",
                            "    </tr>\n",
                            "  </thead>\n",
                            "  <tbody>\n",
                            "    <tr>\n",
                            "      <th>916994</th>\n",
                            "      <td>2330</td>\n",
                            "      <td>8430</td>\n",
                            "      <td>1118848685000</td>\n",
                            "      <td>8.434121</td>\n",
                            "      <td>75.145087</td>\n",
                            "      <td>6.70560</td>\n",
                            "      <td>3</td>\n",
                            "      <td>9.140952</td>\n",
                            "      <td>0.000000</td>\n",
                            "      <td>3</td>\n",
                            "      <td>...</td>\n",
                            "      <td>False</td>\n",
                            "      <td>7.604760</td>\n",
                            "      <td>0.000000</td>\n",
                            "      <td>True</td>\n",
                            "      <td>91.089175</td>\n",
                            "      <td>2.0</td>\n",
                            "      <td>0.00000</td>\n",
                            "      <td>66.8</td>\n",
                            "      <td>0.0</td>\n",
                            "      <td>56.7</td>\n",
                            "    </tr>\n",
                            "    <tr>\n",
                            "      <th>917061</th>\n",
                            "      <td>2330</td>\n",
                            "      <td>8431</td>\n",
                            "      <td>1118848685100</td>\n",
                            "      <td>8.458200</td>\n",
                            "      <td>76.059182</td>\n",
                            "      <td>6.70560</td>\n",
                            "      <td>3</td>\n",
                            "      <td>9.140952</td>\n",
                            "      <td>0.000000</td>\n",
                            "      <td>3</td>\n",
                            "      <td>...</td>\n",
                            "      <td>False</td>\n",
                            "      <td>7.601712</td>\n",
                            "      <td>-0.012192</td>\n",
                            "      <td>True</td>\n",
                            "      <td>91.849651</td>\n",
                            "      <td>2.0</td>\n",
                            "      <td>-7.98576</td>\n",
                            "      <td>66.8</td>\n",
                            "      <td>0.1</td>\n",
                            "      <td>56.7</td>\n",
                            "    </tr>\n",
                            "    <tr>\n",
                            "      <th>917077</th>\n",
                            "      <td>2330</td>\n",
                            "      <td>8432</td>\n",
                            "      <td>1118848685200</td>\n",
                            "      <td>8.482279</td>\n",
                            "      <td>76.973278</td>\n",
                            "      <td>6.70560</td>\n",
                            "      <td>3</td>\n",
                            "      <td>9.140952</td>\n",
                            "      <td>0.000000</td>\n",
                            "      <td>3</td>\n",
                            "      <td>...</td>\n",
                            "      <td>False</td>\n",
                            "      <td>7.601712</td>\n",
                            "      <td>-0.018288</td>\n",
                            "      <td>True</td>\n",
                            "      <td>92.609822</td>\n",
                            "      <td>2.0</td>\n",
                            "      <td>-16.15440</td>\n",
                            "      <td>66.8</td>\n",
                            "      <td>0.2</td>\n",
                            "      <td>56.7</td>\n",
                            "    </tr>\n",
                            "    <tr>\n",
                            "      <th>917120</th>\n",
                            "      <td>2330</td>\n",
                            "      <td>8433</td>\n",
                            "      <td>1118848685300</td>\n",
                            "      <td>8.506358</td>\n",
                            "      <td>77.887373</td>\n",
                            "      <td>6.70560</td>\n",
                            "      <td>3</td>\n",
                            "      <td>9.140952</td>\n",
                            "      <td>0.000000</td>\n",
                            "      <td>3</td>\n",
                            "      <td>...</td>\n",
                            "      <td>False</td>\n",
                            "      <td>7.607808</td>\n",
                            "      <td>0.112776</td>\n",
                            "      <td>True</td>\n",
                            "      <td>93.369079</td>\n",
                            "      <td>2.0</td>\n",
                            "      <td>0.00000</td>\n",
                            "      <td>66.8</td>\n",
                            "      <td>0.3</td>\n",
                            "      <td>56.7</td>\n",
                            "    </tr>\n",
                            "    <tr>\n",
                            "      <th>917194</th>\n",
                            "      <td>2330</td>\n",
                            "      <td>8434</td>\n",
                            "      <td>1118848685400</td>\n",
                            "      <td>8.530133</td>\n",
                            "      <td>78.800858</td>\n",
                            "      <td>6.70560</td>\n",
                            "      <td>3</td>\n",
                            "      <td>9.147048</td>\n",
                            "      <td>0.121920</td>\n",
                            "      <td>3</td>\n",
                            "      <td>...</td>\n",
                            "      <td>False</td>\n",
                            "      <td>7.635240</td>\n",
                            "      <td>0.371856</td>\n",
                            "      <td>True</td>\n",
                            "      <td>94.128641</td>\n",
                            "      <td>2.0</td>\n",
                            "      <td>-7.22376</td>\n",
                            "      <td>66.8</td>\n",
                            "      <td>0.4</td>\n",
                            "      <td>56.7</td>\n",
                            "    </tr>\n",
                            "    <tr>\n",
                            "      <th>...</th>\n",
                            "      <td>...</td>\n",
                            "      <td>...</td>\n",
                            "      <td>...</td>\n",
                            "      <td>...</td>\n",
                            "      <td>...</td>\n",
                            "      <td>...</td>\n",
                            "      <td>...</td>\n",
                            "      <td>...</td>\n",
                            "      <td>...</td>\n",
                            "      <td>...</td>\n",
                            "      <td>...</td>\n",
                            "      <td>...</td>\n",
                            "      <td>...</td>\n",
                            "      <td>...</td>\n",
                            "      <td>...</td>\n",
                            "      <td>...</td>\n",
                            "      <td>...</td>\n",
                            "      <td>...</td>\n",
                            "      <td>...</td>\n",
                            "      <td>...</td>\n",
                            "      <td>...</td>\n",
                            "    </tr>\n",
                            "    <tr>\n",
                            "      <th>813958</th>\n",
                            "      <td>1642</td>\n",
                            "      <td>6425</td>\n",
                            "      <td>1113438207400</td>\n",
                            "      <td>4.816450</td>\n",
                            "      <td>230.488236</td>\n",
                            "      <td>4.05384</td>\n",
                            "      <td>2</td>\n",
                            "      <td>4.428744</td>\n",
                            "      <td>1.874520</td>\n",
                            "      <td>2</td>\n",
                            "      <td>...</td>\n",
                            "      <td>True</td>\n",
                            "      <td>7.028688</td>\n",
                            "      <td>3.413760</td>\n",
                            "      <td>True</td>\n",
                            "      <td>247.469558</td>\n",
                            "      <td>2.0</td>\n",
                            "      <td>18.74520</td>\n",
                            "      <td>60.1</td>\n",
                            "      <td>24.6</td>\n",
                            "      <td>25.0</td>\n",
                            "    </tr>\n",
                            "    <tr>\n",
                            "      <th>813998</th>\n",
                            "      <td>1642</td>\n",
                            "      <td>6426</td>\n",
                            "      <td>1113438207500</td>\n",
                            "      <td>4.818278</td>\n",
                            "      <td>230.950008</td>\n",
                            "      <td>4.05384</td>\n",
                            "      <td>2</td>\n",
                            "      <td>4.556760</td>\n",
                            "      <td>0.509016</td>\n",
                            "      <td>2</td>\n",
                            "      <td>...</td>\n",
                            "      <td>True</td>\n",
                            "      <td>7.412736</td>\n",
                            "      <td>3.084576</td>\n",
                            "      <td>True</td>\n",
                            "      <td>248.191020</td>\n",
                            "      <td>2.0</td>\n",
                            "      <td>5.09016</td>\n",
                            "      <td>60.1</td>\n",
                            "      <td>24.7</td>\n",
                            "      <td>25.0</td>\n",
                            "    </tr>\n",
                            "    <tr>\n",
                            "      <th>814052</th>\n",
                            "      <td>1642</td>\n",
                            "      <td>6427</td>\n",
                            "      <td>1113438207600</td>\n",
                            "      <td>4.819802</td>\n",
                            "      <td>231.412999</td>\n",
                            "      <td>4.05384</td>\n",
                            "      <td>2</td>\n",
                            "      <td>4.587240</td>\n",
                            "      <td>-0.112776</td>\n",
                            "      <td>2</td>\n",
                            "      <td>...</td>\n",
                            "      <td>True</td>\n",
                            "      <td>7.632192</td>\n",
                            "      <td>1.161288</td>\n",
                            "      <td>True</td>\n",
                            "      <td>248.960640</td>\n",
                            "      <td>2.0</td>\n",
                            "      <td>-1.18872</td>\n",
                            "      <td>60.1</td>\n",
                            "      <td>24.8</td>\n",
                            "      <td>25.0</td>\n",
                            "    </tr>\n",
                            "    <tr>\n",
                            "      <th>814097</th>\n",
                            "      <td>1642</td>\n",
                            "      <td>6428</td>\n",
                            "      <td>1113438207700</td>\n",
                            "      <td>4.821326</td>\n",
                            "      <td>231.871114</td>\n",
                            "      <td>4.05384</td>\n",
                            "      <td>2</td>\n",
                            "      <td>4.578096</td>\n",
                            "      <td>-0.076200</td>\n",
                            "      <td>2</td>\n",
                            "      <td>...</td>\n",
                            "      <td>True</td>\n",
                            "      <td>7.705344</td>\n",
                            "      <td>0.021336</td>\n",
                            "      <td>True</td>\n",
                            "      <td>249.738490</td>\n",
                            "      <td>2.0</td>\n",
                            "      <td>-0.76200</td>\n",
                            "      <td>60.1</td>\n",
                            "      <td>24.9</td>\n",
                            "      <td>25.0</td>\n",
                            "    </tr>\n",
                            "    <tr>\n",
                            "      <th>814121</th>\n",
                            "      <td>1642</td>\n",
                            "      <td>6429</td>\n",
                            "      <td>1113438207800</td>\n",
                            "      <td>4.822850</td>\n",
                            "      <td>232.327704</td>\n",
                            "      <td>4.05384</td>\n",
                            "      <td>2</td>\n",
                            "      <td>4.572000</td>\n",
                            "      <td>0.000000</td>\n",
                            "      <td>2</td>\n",
                            "      <td>...</td>\n",
                            "      <td>True</td>\n",
                            "      <td>7.702296</td>\n",
                            "      <td>-0.121920</td>\n",
                            "      <td>True</td>\n",
                            "      <td>250.510243</td>\n",
                            "      <td>2.0</td>\n",
                            "      <td>4.20624</td>\n",
                            "      <td>60.1</td>\n",
                            "      <td>25.0</td>\n",
                            "      <td>25.0</td>\n",
                            "    </tr>\n",
                            "  </tbody>\n",
                            "</table>\n",
                            "<p>4375 rows × 34 columns</p>\n",
                            "</div>"
                        ],
                        "text/plain": [
                            "        Vehicle_ID  Frame_ID    Global_Time   Local_X     Local_Y  v_length  \\\n",
                            "916994        2330      8430  1118848685000  8.434121   75.145087   6.70560   \n",
                            "917061        2330      8431  1118848685100  8.458200   76.059182   6.70560   \n",
                            "917077        2330      8432  1118848685200  8.482279   76.973278   6.70560   \n",
                            "917120        2330      8433  1118848685300  8.506358   77.887373   6.70560   \n",
                            "917194        2330      8434  1118848685400  8.530133   78.800858   6.70560   \n",
                            "...            ...       ...            ...       ...         ...       ...   \n",
                            "813958        1642      6425  1113438207400  4.816450  230.488236   4.05384   \n",
                            "813998        1642      6426  1113438207500  4.818278  230.950008   4.05384   \n",
                            "814052        1642      6427  1113438207600  4.819802  231.412999   4.05384   \n",
                            "814097        1642      6428  1113438207700  4.821326  231.871114   4.05384   \n",
                            "814121        1642      6429  1113438207800  4.822850  232.327704   4.05384   \n",
                            "\n",
                            "        v_Class     v_Vel     v_Acc  Lane_ID  ...  lane_changes  \\\n",
                            "916994        3  9.140952  0.000000        3  ...         False   \n",
                            "917061        3  9.140952  0.000000        3  ...         False   \n",
                            "917077        3  9.140952  0.000000        3  ...         False   \n",
                            "917120        3  9.140952  0.000000        3  ...         False   \n",
                            "917194        3  9.147048  0.121920        3  ...         False   \n",
                            "...         ...       ...       ...      ...  ...           ...   \n",
                            "813958        2  4.428744  1.874520        2  ...          True   \n",
                            "813998        2  4.556760  0.509016        2  ...          True   \n",
                            "814052        2  4.587240 -0.112776        2  ...          True   \n",
                            "814097        2  4.578096 -0.076200        2  ...          True   \n",
                            "814121        2  4.572000  0.000000        2  ...          True   \n",
                            "\n",
                            "        preceding_Vehicle_Velocity  preceding_Vehicle_Acceleration  \\\n",
                            "916994                    7.604760                        0.000000   \n",
                            "917061                    7.601712                       -0.012192   \n",
                            "917077                    7.601712                       -0.018288   \n",
                            "917120                    7.607808                        0.112776   \n",
                            "917194                    7.635240                        0.371856   \n",
                            "...                            ...                             ...   \n",
                            "813958                    7.028688                        3.413760   \n",
                            "813998                    7.412736                        3.084576   \n",
                            "814052                    7.632192                        1.161288   \n",
                            "814097                    7.705344                        0.021336   \n",
                            "814121                    7.702296                       -0.121920   \n",
                            "\n",
                            "        preceding_car_lane_changes preceding_Local_Y preceding_v_Class  \\\n",
                            "916994                        True         91.089175               2.0   \n",
                            "917061                        True         91.849651               2.0   \n",
                            "917077                        True         92.609822               2.0   \n",
                            "917120                        True         93.369079               2.0   \n",
                            "917194                        True         94.128641               2.0   \n",
                            "...                            ...               ...               ...   \n",
                            "813958                        True        247.469558               2.0   \n",
                            "813998                        True        248.191020               2.0   \n",
                            "814052                        True        248.960640               2.0   \n",
                            "814097                        True        249.738490               2.0   \n",
                            "814121                        True        250.510243               2.0   \n",
                            "\n",
                            "            jerk  total_pair_duration  pair_Time_Duration  total_pair_dur  \n",
                            "916994   0.00000                 66.8                 0.0            56.7  \n",
                            "917061  -7.98576                 66.8                 0.1            56.7  \n",
                            "917077 -16.15440                 66.8                 0.2            56.7  \n",
                            "917120   0.00000                 66.8                 0.3            56.7  \n",
                            "917194  -7.22376                 66.8                 0.4            56.7  \n",
                            "...          ...                  ...                 ...             ...  \n",
                            "813958  18.74520                 60.1                24.6            25.0  \n",
                            "813998   5.09016                 60.1                24.7            25.0  \n",
                            "814052  -1.18872                 60.1                24.8            25.0  \n",
                            "814097  -0.76200                 60.1                24.9            25.0  \n",
                            "814121   4.20624                 60.1                25.0            25.0  \n",
                            "\n",
                            "[4375 rows x 34 columns]"
                        ]
                    },
                    "execution_count": 25,
                    "metadata": {},
                    "output_type": "execute_result"
                }
            ],
            "source": [
                "trajectory_pairs"
            ]
        },
        {
            "cell_type": "code",
            "execution_count": 26,
            "metadata": {},
            "outputs": [
                {
                    "data": {
                        "text/plain": [
                            "True"
                        ]
                    },
                    "execution_count": 26,
                    "metadata": {},
                    "output_type": "execute_result"
                }
            ],
            "source": [
                "fileProcessing.export_file(trajectory_pairs,'Plot_Pairs_NGSIM_Data')"
            ]
        },
        {
            "cell_type": "code",
            "execution_count": 27,
            "metadata": {},
            "outputs": [],
            "source": [
                "trajectory_removed_NGSIM = cleaned_NGSIM.drop(trajectory_pairs.index,axis=0)"
            ]
        },
        {
            "cell_type": "markdown",
            "metadata": {},
            "source": [
                "Split the Data into Test/Validate/Train in a ratio of 70/0/30"
            ]
        },
        {
            "cell_type": "code",
            "execution_count": 33,
            "metadata": {},
            "outputs": [],
            "source": [
                "train_df, val_df, test_df=transform.train_test_pair(trajectory_removed_NGSIM,0.9,True)"
            ]
        },
        {
            "cell_type": "code",
            "execution_count": 29,
            "metadata": {},
            "outputs": [
                {
                    "data": {
                        "text/plain": [
                            "True"
                        ]
                    },
                    "execution_count": 29,
                    "metadata": {},
                    "output_type": "execute_result"
                }
            ],
            "source": [
                "fileProcessing.export_file(train_df,'train_df_cleaned_NGSIM')\n",
                "fileProcessing.export_file(val_df,'val_df_cleaned_NGSIM')\n",
                "fileProcessing.export_file(test_df,'test_df_cleaned_NGSIM')"
            ]
        },
        {
            "cell_type": "code",
            "execution_count": 36,
            "metadata": {},
            "outputs": [
                {
                    "name": "stdout",
                    "output_type": "stream",
                    "text": [
                        "train df Count:2343692, percentage: 0.8307064342840453\n",
                        "val df Count:217250, percentage: 0.07700285397919558\n",
                        "test df Count:260382, percentage: 0.09229071173675905\n"
                    ]
                }
            ],
            "source": [
                "train_df_cnt=train_df.shape[0]\n",
                "val_df_cnt=val_df.shape[0]\n",
                "test_df_cnt=test_df.shape[0]\n",
                "total_cnt=test_df_cnt+val_df_cnt+train_df_cnt\n",
                "\n",
                "print(f\"train df Count:{train_df_cnt}, percentage: {train_df_cnt/total_cnt}\")\n",
                "print(f\"val df Count:{val_df_cnt}, percentage: {val_df_cnt/total_cnt}\")\n",
                "print(f\"test df Count:{test_df_cnt}, percentage: {test_df_cnt/total_cnt}\")"
            ]
        }
    ],
    "metadata": {
        "kernelspec": {
            "display_name": "Python 3.8.13 ('Project')",
            "language": "python",
            "name": "python3"
        },
        "language_info": {
            "codemirror_mode": {
                "name": "ipython",
                "version": 3
            },
            "file_extension": ".py",
            "mimetype": "text/x-python",
            "name": "python",
            "nbconvert_exporter": "python",
            "pygments_lexer": "ipython3",
            "version": "3.8.13"
        },
        "orig_nbformat": 4,
        "vscode": {
            "interpreter": {
                "hash": "32f9b5c64a9ffdfd44c75ce715a0c18d651d70bac5b5e0fedf911a0bbec25f03"
            }
        }
    },
    "nbformat": 4,
    "nbformat_minor": 2
}
