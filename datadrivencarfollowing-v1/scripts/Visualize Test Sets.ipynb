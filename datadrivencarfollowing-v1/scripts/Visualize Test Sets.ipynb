{
 "cells": [
  {
   "cell_type": "markdown",
   "metadata": {},
   "source": [
    "Importing required libraries to predict acceleration using random forest, calculate RMSE (RootMeanSquaredError), and create plots to compare predicted and actual acceleration"
   ]
  },
  {
   "cell_type": "code",
   "execution_count": 1,
   "metadata": {},
   "outputs": [
    {
     "name": "stdout",
     "output_type": "stream",
     "text": [
      "original File path: C:\\Users\\StudentAccount\\Python\\capstone-bravo\\DataDrivenCarFollowing\\datadrivencarfollowing-v1\\scripts\n",
      "Data File path: C:\\Users\\StudentAccount\\Python\\capstone-bravo\\DataDrivenCarFollowing\\datadrivencarfollowing-v1\\data\n"
     ]
    }
   ],
   "source": [
    "import pandas as pd\n",
    "import numpy as np\n",
    "import FileProcessing\n",
    "import ModelClass"
   ]
  },
  {
   "cell_type": "code",
   "execution_count": 2,
   "metadata": {},
   "outputs": [],
   "source": [
    "file=FileProcessing.FileProcessing()\n",
    "model_obj=ModelClass.ModelClass()"
   ]
  },
  {
   "cell_type": "code",
   "execution_count": 3,
   "metadata": {},
   "outputs": [],
   "source": [
    "delta_time=0.2\n",
    "timeSpans=[0.1]\n",
    "#uncomment the below to run for all times\n",
    "#timeSpans=[0.1,0.2,0.3,0.5,1,2,4]\n"
   ]
  },
  {
   "cell_type": "code",
   "execution_count": 4,
   "metadata": {},
   "outputs": [
    {
     "name": "stdout",
     "output_type": "stream",
     "text": [
      "File Read Complete: C:\\Users\\StudentAccount\\Python\\capstone-bravo\\DataDrivenCarFollowing\\datadrivencarfollowing-v1\\data/Test_set_Predited_data_0.2.csv\n"
     ]
    }
   ],
   "source": [
    "file_name='Test_set_Predited_data_' +str(delta_time)\n",
    "prediction_set=file.read_input(file_name)"
   ]
  },
  {
   "cell_type": "code",
   "execution_count": 5,
   "metadata": {},
   "outputs": [],
   "source": [
    "predict_on_pair=prediction_set[\"L-F_Pair\"].unique()"
   ]
  },
  {
   "cell_type": "code",
   "execution_count": null,
   "metadata": {},
   "outputs": [],
   "source": [
    "#below error has only been introduced so that the code can be moved to Git. "
   ]
  },
  {
   "cell_type": "code",
   "execution_count": 2,
   "metadata": {},
   "outputs": [
    {
     "ename": "NameError",
     "evalue": "name 'predict_on_pair' is not defined",
     "output_type": "error",
     "traceback": [
      "\u001b[1;31m---------------------------------------------------------------------------\u001b[0m",
      "\u001b[1;31mNameError\u001b[0m                                 Traceback (most recent call last)",
      "Input \u001b[1;32mIn [2]\u001b[0m, in \u001b[0;36m<cell line: 1>\u001b[1;34m()\u001b[0m\n\u001b[1;32m----> 1\u001b[0m \u001b[38;5;28;01mfor\u001b[39;00m pair_number \u001b[38;5;129;01min\u001b[39;00m \u001b[43mpredict_on_pair\u001b[49m:\n\u001b[0;32m      2\u001b[0m     \u001b[38;5;28;01mfor\u001b[39;00m delta_time \u001b[38;5;129;01min\u001b[39;00m timeSpans:\n\u001b[0;32m      3\u001b[0m         file_name\u001b[38;5;241m=\u001b[39m\u001b[38;5;124m'\u001b[39m\u001b[38;5;124mTest_set_Predited_data_\u001b[39m\u001b[38;5;124m'\u001b[39m \u001b[38;5;241m+\u001b[39m\u001b[38;5;28mstr\u001b[39m(delta_time)\n",
      "\u001b[1;31mNameError\u001b[0m: name 'predict_on_pair' is not defined"
     ]
    }
   ],
   "source": [
    "for pair_number in predict_on_pair:\n",
    "    for delta_time in timeSpans:\n",
    "        file_name='Test_set_Predited_data_' +str(delta_time)\n",
    "        prediction_set=file.read_input(file_name)\n",
    "        print(f\"Pair: {pair_number} , reaction time: {delta_time} Trajectories: \")\n",
    "        prediction_1 = prediction_set[prediction_set[\"L-F_Pair\"]== pair_number]\n",
    "        model_obj.plot_all_predictions(prediction_1,delta_time)\n",
    "        print()"
   ]
  },
  {
   "cell_type": "code",
   "execution_count": null,
   "metadata": {},
   "outputs": [],
   "source": []
  }
 ],
 "metadata": {
  "kernelspec": {
   "display_name": "Python 3 (ipykernel)",
   "language": "python",
   "name": "python3"
  },
  "language_info": {
   "codemirror_mode": {
    "name": "ipython",
    "version": 3
   },
   "file_extension": ".py",
   "mimetype": "text/x-python",
   "name": "python",
   "nbconvert_exporter": "python",
   "pygments_lexer": "ipython3",
   "version": "3.8.13"
  },
  "vscode": {
   "interpreter": {
    "hash": "32f9b5c64a9ffdfd44c75ce715a0c18d651d70bac5b5e0fedf911a0bbec25f03"
   }
  }
 },
 "nbformat": 4,
 "nbformat_minor": 4
}
