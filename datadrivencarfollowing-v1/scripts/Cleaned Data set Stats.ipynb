{
    "cells": [
        {
            "cell_type": "code",
            "execution_count": 2,
            "metadata": {},
            "outputs": [
                {
                    "name": "stdout",
                    "output_type": "stream",
                    "text": [
                        "original File path: c:\\Users\\StudentAccount\\Python\\Capstone\\gitcodelocation\\DataDrivenCarFollowing\\datadrivencarfollowing-v1\\scripts\n",
                        "Data File path: c:\\Users\\StudentAccount\\Python\\Capstone\\gitcodelocation\\DataDrivenCarFollowing\\datadrivencarfollowing-v1\\data\n"
                    ]
                }
            ],
            "source": [
                "import numpy as np \n",
                "import pandas as pd \n",
                "import warnings\n",
                "warnings.filterwarnings(\"ignore\")\n",
                "\n",
                "import FileProcessing"
            ]
        },
        {
            "cell_type": "code",
            "execution_count": 3,
            "metadata": {},
            "outputs": [],
            "source": [
                "fileProcessing=FileProcessing.FileProcessing()"
            ]
        },
        {
            "cell_type": "code",
            "execution_count": 4,
            "metadata": {},
            "outputs": [
                {
                    "name": "stdout",
                    "output_type": "stream",
                    "text": [
                        "File Read Complete: c:\\Users\\StudentAccount\\Python\\Capstone\\gitcodelocation\\DataDrivenCarFollowing\\datadrivencarfollowing-v1\\data/Cleaned_NGSIM_Data.csv\n"
                    ]
                }
            ],
            "source": [
                "file_name='Cleaned_NGSIM_Data'\n",
                "cleaned_ngsim=fileProcessing.read_input(file_name)"
            ]
        },
        {
            "cell_type": "code",
            "execution_count": 5,
            "metadata": {},
            "outputs": [
                {
                    "data": {
                        "text/plain": [
                            "(2069155, 34)"
                        ]
                    },
                    "execution_count": 5,
                    "metadata": {},
                    "output_type": "execute_result"
                }
            ],
            "source": [
                "cleaned_ngsim.shape"
            ]
        },
        {
            "cell_type": "code",
            "execution_count": null,
            "metadata": {},
            "outputs": [
                {
                    "data": {
                        "text/plain": [
                            "Index(['Vehicle_ID', 'Frame_ID', 'Global_Time', 'Local_X', 'Local_Y',\n",
                            "       'v_length', 'v_Class', 'v_Vel', 'v_Acc', 'Lane_ID', 'Preceding',\n",
                            "       'Following', 'Space_Headway', 'Time_Headway', 'Location',\n",
                            "       'Preceding_Vehicle_Class', 'Rear_to_Front_Space_Headway',\n",
                            "       'Front_To_Rear_Time_Headway', 'Velocity Difference_Following-Preceding',\n",
                            "       'Acceleration Difference_Following-Preceding', 'L-F_Pair',\n",
                            "       'v_Class_Name', 'Vehicle_combination', 'preceding_vehicle_length',\n",
                            "       'lane_changes', 'Prec_Vehicle_ID', 'preceding_Vehicle_Velocity',\n",
                            "       'preceding_Vehicle_Acceleration', 'preceding_car_lane_changes',\n",
                            "       'preceding_Local_Y', 'preceding_v_Class', 'total_pair_duration',\n",
                            "       'pair_Time_Duration', 'total_pair_dur'],\n",
                            "      dtype='object')"
                        ]
                    },
                    "execution_count": 61,
                    "metadata": {},
                    "output_type": "execute_result"
                }
            ],
            "source": [
                "cleaned_ngsim.columns"
            ]
        },
        {
            "cell_type": "code",
            "execution_count": null,
            "metadata": {},
            "outputs": [
                {
                    "name": "stdout",
                    "output_type": "stream",
                    "text": [
                        "1924 cars Change lanes\n",
                        "643 cars DonT\n"
                    ]
                }
            ],
            "source": [
                "print(f\"{cleaned_ngsim[(cleaned_ngsim['preceding_car_lane_changes'] == True) ]['Vehicle_ID'].unique().size} cars Change lanes\")\n",
                "print(f\"{cleaned_ngsim[(cleaned_ngsim['preceding_car_lane_changes'] == False) ]['Vehicle_ID'].unique().size} cars DonT\")"
            ]
        },
        {
            "cell_type": "code",
            "execution_count": null,
            "metadata": {},
            "outputs": [
                {
                    "data": {
                        "text/plain": [
                            "(3655,)"
                        ]
                    },
                    "execution_count": 63,
                    "metadata": {},
                    "output_type": "execute_result"
                }
            ],
            "source": [
                "cleaned_ngsim['L-F_Pair'].unique().shape"
            ]
        },
        {
            "cell_type": "markdown",
            "metadata": {},
            "source": [
                "Crash Information. "
            ]
        },
        {
            "cell_type": "code",
            "execution_count": 6,
            "metadata": {},
            "outputs": [
                {
                    "data": {
                        "text/html": [
                            "<div>\n",
                            "<style scoped>\n",
                            "    .dataframe tbody tr th:only-of-type {\n",
                            "        vertical-align: middle;\n",
                            "    }\n",
                            "\n",
                            "    .dataframe tbody tr th {\n",
                            "        vertical-align: top;\n",
                            "    }\n",
                            "\n",
                            "    .dataframe thead th {\n",
                            "        text-align: right;\n",
                            "    }\n",
                            "</style>\n",
                            "<table border=\"1\" class=\"dataframe\">\n",
                            "  <thead>\n",
                            "    <tr style=\"text-align: right;\">\n",
                            "      <th></th>\n",
                            "      <th>Vehicle_ID</th>\n",
                            "      <th>Frame_ID</th>\n",
                            "      <th>Global_Time</th>\n",
                            "      <th>Local_X</th>\n",
                            "      <th>Local_Y</th>\n",
                            "      <th>v_length</th>\n",
                            "      <th>v_Class</th>\n",
                            "      <th>v_Vel</th>\n",
                            "      <th>v_Acc</th>\n",
                            "      <th>Lane_ID</th>\n",
                            "      <th>...</th>\n",
                            "      <th>lane_changes</th>\n",
                            "      <th>Prec_Vehicle_ID</th>\n",
                            "      <th>preceding_Vehicle_Velocity</th>\n",
                            "      <th>preceding_Vehicle_Acceleration</th>\n",
                            "      <th>preceding_car_lane_changes</th>\n",
                            "      <th>preceding_Local_Y</th>\n",
                            "      <th>preceding_v_Class</th>\n",
                            "      <th>total_pair_duration</th>\n",
                            "      <th>pair_Time_Duration</th>\n",
                            "      <th>total_pair_dur</th>\n",
                            "    </tr>\n",
                            "  </thead>\n",
                            "  <tbody>\n",
                            "    <tr>\n",
                            "      <th>359678</th>\n",
                            "      <td>2964</td>\n",
                            "      <td>8731</td>\n",
                            "      <td>1118847852000</td>\n",
                            "      <td>1.483766</td>\n",
                            "      <td>94.405399</td>\n",
                            "      <td>5.02920</td>\n",
                            "      <td>2</td>\n",
                            "      <td>2.618232</td>\n",
                            "      <td>-3.413760</td>\n",
                            "      <td>1</td>\n",
                            "      <td>...</td>\n",
                            "      <td>False</td>\n",
                            "      <td>2956</td>\n",
                            "      <td>1.411224</td>\n",
                            "      <td>1.298448</td>\n",
                            "      <td>False</td>\n",
                            "      <td>94.406923</td>\n",
                            "      <td>2.0</td>\n",
                            "      <td>89.6</td>\n",
                            "      <td>4.8</td>\n",
                            "      <td>57.7</td>\n",
                            "    </tr>\n",
                            "    <tr>\n",
                            "      <th>1768026</th>\n",
                            "      <td>2491</td>\n",
                            "      <td>7916</td>\n",
                            "      <td>1113437558500</td>\n",
                            "      <td>5.230673</td>\n",
                            "      <td>182.539843</td>\n",
                            "      <td>4.66344</td>\n",
                            "      <td>2</td>\n",
                            "      <td>3.453384</td>\n",
                            "      <td>0.036576</td>\n",
                            "      <td>2</td>\n",
                            "      <td>...</td>\n",
                            "      <td>True</td>\n",
                            "      <td>2486</td>\n",
                            "      <td>3.200400</td>\n",
                            "      <td>0.000000</td>\n",
                            "      <td>False</td>\n",
                            "      <td>182.540148</td>\n",
                            "      <td>2.0</td>\n",
                            "      <td>99.8</td>\n",
                            "      <td>24.3</td>\n",
                            "      <td>79.6</td>\n",
                            "    </tr>\n",
                            "  </tbody>\n",
                            "</table>\n",
                            "<p>2 rows × 34 columns</p>\n",
                            "</div>"
                        ],
                        "text/plain": [
                            "         Vehicle_ID  Frame_ID    Global_Time   Local_X     Local_Y  v_length  \\\n",
                            "359678         2964      8731  1118847852000  1.483766   94.405399   5.02920   \n",
                            "1768026        2491      7916  1113437558500  5.230673  182.539843   4.66344   \n",
                            "\n",
                            "         v_Class     v_Vel     v_Acc  Lane_ID  ...  lane_changes  \\\n",
                            "359678         2  2.618232 -3.413760        1  ...         False   \n",
                            "1768026        2  3.453384  0.036576        2  ...          True   \n",
                            "\n",
                            "         Prec_Vehicle_ID  preceding_Vehicle_Velocity  \\\n",
                            "359678              2956                    1.411224   \n",
                            "1768026             2486                    3.200400   \n",
                            "\n",
                            "         preceding_Vehicle_Acceleration preceding_car_lane_changes  \\\n",
                            "359678                         1.298448                      False   \n",
                            "1768026                        0.000000                      False   \n",
                            "\n",
                            "        preceding_Local_Y  preceding_v_Class  total_pair_duration  \\\n",
                            "359678          94.406923                2.0                 89.6   \n",
                            "1768026        182.540148                2.0                 99.8   \n",
                            "\n",
                            "         pair_Time_Duration  total_pair_dur  \n",
                            "359678                  4.8            57.7  \n",
                            "1768026                24.3            79.6  \n",
                            "\n",
                            "[2 rows x 34 columns]"
                        ]
                    },
                    "execution_count": 6,
                    "metadata": {},
                    "output_type": "execute_result"
                }
            ],
            "source": [
                "cleaned_ngsim[((cleaned_ngsim['Space_Headway'] == 0 ) & (cleaned_ngsim['Preceding'] > 0 )) ]\n"
            ]
        },
        {
            "cell_type": "code",
            "execution_count": null,
            "metadata": {},
            "outputs": [],
            "source": [
                "train_df_name ='train_df_cleaned_NGSIM'\n",
                "test_df_name='test_df_cleaned_NGSIM'\n",
                "val_df_name='val_df_cleaned_NGSIM'\n",
                "\n",
                "train_df=file.read_input(train_df_name)\n",
                "val_df=file.read_input(val_df_name)\n",
                "test_df=file.read_input(test_df_name)"
            ]
        },
        {
            "cell_type": "code",
            "execution_count": null,
            "metadata": {},
            "outputs": [],
            "source": [
                "train_df_cnt=train_df.shape[0]\n",
                "val_df_cnt=val_df.shape[0]\n",
                "test_df_cnt=test_df.shape[0]\n",
                "total_cnt=test_df_cnt+val_df_cnt+train_df_cnt\n",
                "\n",
                "print(f\"train df Count:{train_df_cnt}, percentage: {train_df_cnt/total_cnt}\")\n",
                "print(f\"val df Count:{val_df_cnt}, percentage: {val_df_cnt/total_cnt}\")\n",
                "print(f\"test df Count:{test_df_cnt}, percentage: {test_df_cnt/total_cnt}\")"
            ]
        },
        {
            "cell_type": "code",
            "execution_count": null,
            "metadata": {},
            "outputs": [],
            "source": [
                "print(train_df['L-F_Pair'].unique().shape)\n",
                "print(val_df['L-F_Pair'].unique().shape)\n",
                "print(test_df['L-F_Pair'].unique().shape)"
            ]
        }
    ],
    "metadata": {
        "kernelspec": {
            "display_name": "Python 3.8.13 ('Project')",
            "language": "python",
            "name": "python3"
        },
        "language_info": {
            "codemirror_mode": {
                "name": "ipython",
                "version": 3
            },
            "file_extension": ".py",
            "mimetype": "text/x-python",
            "name": "python",
            "nbconvert_exporter": "python",
            "pygments_lexer": "ipython3",
            "version": "3.8.13"
        },
        "orig_nbformat": 4,
        "vscode": {
            "interpreter": {
                "hash": "32f9b5c64a9ffdfd44c75ce715a0c18d651d70bac5b5e0fedf911a0bbec25f03"
            }
        }
    },
    "nbformat": 4,
    "nbformat_minor": 2
}
