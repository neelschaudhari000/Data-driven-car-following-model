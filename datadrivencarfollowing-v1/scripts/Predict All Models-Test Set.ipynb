{
    "cells": [
        {
            "cell_type": "markdown",
            "metadata": {},
            "source": [
                "Importing required libraries to predict acceleration using random forest, calculate RMSE (RootMeanSquaredError), and create plots to compare predicted and actual acceleration"
            ]
        },
        {
            "cell_type": "code",
            "execution_count": 1,
            "metadata": {},
            "outputs": [
                {
                    "name": "stdout",
                    "output_type": "stream",
                    "text": [
                        "original File path: c:\\Users\\StudentAccount\\Python\\Capstone\\gitcodelocation\\DataDrivenCarFollowing\\datadrivencarfollowing-v1\\scripts\n",
                        "Data File path: c:\\Users\\StudentAccount\\Python\\Capstone\\gitcodelocation\\DataDrivenCarFollowing\\datadrivencarfollowing-v1\\data\n"
                    ]
                }
            ],
            "source": [
                "import pandas as pd\n",
                "import numpy as np\n",
                "import FileProcessing\n",
                "import ModelClass"
            ]
        },
        {
            "cell_type": "code",
            "execution_count": 2,
            "metadata": {},
            "outputs": [],
            "source": [
                "file=FileProcessing.FileProcessing()\n",
                "model_obj=ModelClass.ModelClass()"
            ]
        },
        {
            "cell_type": "code",
            "execution_count": 3,
            "metadata": {},
            "outputs": [
                {
                    "name": "stdout",
                    "output_type": "stream",
                    "text": [
                        "File Read Complete: c:\\Users\\StudentAccount\\Python\\Capstone\\gitcodelocation\\DataDrivenCarFollowing\\datadrivencarfollowing-v1\\data/test_df_cleaned_NGSIM.csv\n"
                    ]
                }
            ],
            "source": [
                "file_name='test_df_cleaned_NGSIM'\n",
                "trajectory_display=file.read_input(file_name)"
            ]
        },
        {
            "cell_type": "code",
            "execution_count": 4,
            "metadata": {},
            "outputs": [
                {
                    "name": "stdout",
                    "output_type": "stream",
                    "text": [
                        "Model Load Completed: c:\\Users\\StudentAccount\\Python\\Capstone\\gitcodelocation\\DataDrivenCarFollowing\\datadrivencarfollowing-v1\\data/knn0.1.pkg\n",
                        "Model Load Completed: c:\\Users\\StudentAccount\\Python\\Capstone\\gitcodelocation\\DataDrivenCarFollowing\\datadrivencarfollowing-v1\\data/randomForest0.1.pkg\n",
                        "Model Load Completed: c:\\Users\\StudentAccount\\Python\\Capstone\\gitcodelocation\\DataDrivenCarFollowing\\datadrivencarfollowing-v1\\data/neural_network_model0.1.keras\n",
                        "Files Save Completed: c:\\Users\\StudentAccount\\Python\\Capstone\\gitcodelocation\\DataDrivenCarFollowing\\datadrivencarfollowing-v1\\data\\Test_set_Predited_data_0.1.csv\n"
                    ]
                }
            ],
            "source": [
                "timeSpans=[0.1]\n",
                "for delta_time in timeSpans:\n",
                "    predict_data=model_obj.prediction_preprocessing(trajectory_display,delta_time)\n",
                "    predict_on_pair = model_obj.prediction_test_pairs(predict_data, 0, 9999)\n",
                "    predicted_data=model_obj.predict_knn_rf_cnn(predict_data, predict_on_pair, delta_time)\n",
                "    prediction_fileName='Test_set_Predited_data_' + str(delta_time)\n",
                "    file.export_file(predicted_data, prediction_fileName)"
            ]
        },
        {
            "cell_type": "code",
            "execution_count": 4,
            "metadata": {},
            "outputs": [
                {
                    "name": "stdout",
                    "output_type": "stream",
                    "text": [
                        "Model Load Completed: c:\\Users\\StudentAccount\\Python\\Capstone\\gitcodelocation\\DataDrivenCarFollowing\\datadrivencarfollowing-v1\\data/knn0.2.pkg\n",
                        "Model Load Completed: c:\\Users\\StudentAccount\\Python\\Capstone\\gitcodelocation\\DataDrivenCarFollowing\\datadrivencarfollowing-v1\\data/randomForest0.2.pkg\n",
                        "Model Load Completed: c:\\Users\\StudentAccount\\Python\\Capstone\\gitcodelocation\\DataDrivenCarFollowing\\datadrivencarfollowing-v1\\data/neural_network_model0.2.keras\n",
                        "Files Save Completed: c:\\Users\\StudentAccount\\Python\\Capstone\\gitcodelocation\\DataDrivenCarFollowing\\datadrivencarfollowing-v1\\data\\Test_set_Predited_data_0.2.csv\n",
                        "Model Load Completed: c:\\Users\\StudentAccount\\Python\\Capstone\\gitcodelocation\\DataDrivenCarFollowing\\datadrivencarfollowing-v1\\data/knn0.3.pkg\n",
                        "Model Load Completed: c:\\Users\\StudentAccount\\Python\\Capstone\\gitcodelocation\\DataDrivenCarFollowing\\datadrivencarfollowing-v1\\data/randomForest0.3.pkg\n",
                        "Model Load Completed: c:\\Users\\StudentAccount\\Python\\Capstone\\gitcodelocation\\DataDrivenCarFollowing\\datadrivencarfollowing-v1\\data/neural_network_model0.3.keras\n",
                        "Files Save Completed: c:\\Users\\StudentAccount\\Python\\Capstone\\gitcodelocation\\DataDrivenCarFollowing\\datadrivencarfollowing-v1\\data\\Test_set_Predited_data_0.3.csv\n",
                        "Model Load Completed: c:\\Users\\StudentAccount\\Python\\Capstone\\gitcodelocation\\DataDrivenCarFollowing\\datadrivencarfollowing-v1\\data/knn0.5.pkg\n",
                        "Model Load Completed: c:\\Users\\StudentAccount\\Python\\Capstone\\gitcodelocation\\DataDrivenCarFollowing\\datadrivencarfollowing-v1\\data/randomForest0.5.pkg\n",
                        "Model Load Completed: c:\\Users\\StudentAccount\\Python\\Capstone\\gitcodelocation\\DataDrivenCarFollowing\\datadrivencarfollowing-v1\\data/neural_network_model0.5.keras\n",
                        "Files Save Completed: c:\\Users\\StudentAccount\\Python\\Capstone\\gitcodelocation\\DataDrivenCarFollowing\\datadrivencarfollowing-v1\\data\\Test_set_Predited_data_0.5.csv\n"
                    ]
                }
            ],
            "source": [
                "timeSpans=[0.2,0.3,0.5]\n",
                "\n",
                "for delta_time in timeSpans:\n",
                "    predict_data=model_obj.prediction_preprocessing(trajectory_display,delta_time)\n",
                "    predict_on_pair = model_obj.prediction_test_pairs(predict_data, 0, 9999)\n",
                "    predicted_data=model_obj.predict_knn_rf_cnn(predict_data, predict_on_pair, delta_time)\n",
                "    prediction_fileName='Test_set_Predited_data_' + str(delta_time)\n",
                "    file.export_file(predicted_data, prediction_fileName)"
            ]
        },
        {
            "cell_type": "code",
            "execution_count": 4,
            "metadata": {},
            "outputs": [
                {
                    "name": "stdout",
                    "output_type": "stream",
                    "text": [
                        "Model Load Completed: c:\\Users\\StudentAccount\\Python\\Capstone\\gitcodelocation\\DataDrivenCarFollowing\\datadrivencarfollowing-v1\\data/knn1.pkg\n",
                        "Model Load Completed: c:\\Users\\StudentAccount\\Python\\Capstone\\gitcodelocation\\DataDrivenCarFollowing\\datadrivencarfollowing-v1\\data/randomForest1.pkg\n",
                        "Model Load Completed: c:\\Users\\StudentAccount\\Python\\Capstone\\gitcodelocation\\DataDrivenCarFollowing\\datadrivencarfollowing-v1\\data/neural_network_model1.keras\n",
                        "Files Save Completed: c:\\Users\\StudentAccount\\Python\\Capstone\\gitcodelocation\\DataDrivenCarFollowing\\datadrivencarfollowing-v1\\data\\Test_set_Predited_data_1.csv\n",
                        "Model Load Completed: c:\\Users\\StudentAccount\\Python\\Capstone\\gitcodelocation\\DataDrivenCarFollowing\\datadrivencarfollowing-v1\\data/knn2.pkg\n",
                        "Model Load Completed: c:\\Users\\StudentAccount\\Python\\Capstone\\gitcodelocation\\DataDrivenCarFollowing\\datadrivencarfollowing-v1\\data/randomForest2.pkg\n",
                        "Model Load Completed: c:\\Users\\StudentAccount\\Python\\Capstone\\gitcodelocation\\DataDrivenCarFollowing\\datadrivencarfollowing-v1\\data/neural_network_model2.keras\n",
                        "Files Save Completed: c:\\Users\\StudentAccount\\Python\\Capstone\\gitcodelocation\\DataDrivenCarFollowing\\datadrivencarfollowing-v1\\data\\Test_set_Predited_data_2.csv\n",
                        "Model Load Completed: c:\\Users\\StudentAccount\\Python\\Capstone\\gitcodelocation\\DataDrivenCarFollowing\\datadrivencarfollowing-v1\\data/knn4.pkg\n",
                        "Model Load Completed: c:\\Users\\StudentAccount\\Python\\Capstone\\gitcodelocation\\DataDrivenCarFollowing\\datadrivencarfollowing-v1\\data/randomForest4.pkg\n",
                        "Model Load Completed: c:\\Users\\StudentAccount\\Python\\Capstone\\gitcodelocation\\DataDrivenCarFollowing\\datadrivencarfollowing-v1\\data/neural_network_model4.keras\n",
                        "Files Save Completed: c:\\Users\\StudentAccount\\Python\\Capstone\\gitcodelocation\\DataDrivenCarFollowing\\datadrivencarfollowing-v1\\data\\Test_set_Predited_data_4.csv\n"
                    ]
                }
            ],
            "source": [
                "timeSpans=[1,2,4]\n",
                "for delta_time in timeSpans:\n",
                "    predict_data=model_obj.prediction_preprocessing(trajectory_display,delta_time)\n",
                "    predict_on_pair = model_obj.prediction_test_pairs(predict_data, 0, 9999)\n",
                "    predicted_data=model_obj.predict_knn_rf_cnn(predict_data, predict_on_pair, delta_time)\n",
                "    prediction_fileName='Test_set_Predited_data_' + str(delta_time)\n",
                "    file.export_file(predicted_data, prediction_fileName)"
            ]
        },
        {
            "cell_type": "code",
            "execution_count": null,
            "metadata": {},
            "outputs": [],
            "source": []
        }
    ],
    "metadata": {
        "kernelspec": {
            "display_name": "Python 3.8.13 ('Project')",
            "language": "python",
            "name": "python3"
        },
        "language_info": {
            "codemirror_mode": {
                "name": "ipython",
                "version": 3
            },
            "file_extension": ".py",
            "mimetype": "text/x-python",
            "name": "python",
            "nbconvert_exporter": "python",
            "pygments_lexer": "ipython3",
            "version": "3.8.13"
        },
        "orig_nbformat": 4,
        "vscode": {
            "interpreter": {
                "hash": "32f9b5c64a9ffdfd44c75ce715a0c18d651d70bac5b5e0fedf911a0bbec25f03"
            }
        }
    },
    "nbformat": 4,
    "nbformat_minor": 2
}
