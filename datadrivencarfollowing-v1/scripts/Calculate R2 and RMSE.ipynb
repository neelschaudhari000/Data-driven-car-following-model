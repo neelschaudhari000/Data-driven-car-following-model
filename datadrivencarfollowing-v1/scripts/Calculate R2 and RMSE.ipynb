{
    "cells": [
        {
            "cell_type": "markdown",
            "metadata": {},
            "source": [
                "Importing required libraries to predict acceleration using random forest, calculate RMSE (RootMeanSquaredError), and create plots to compare predicted and actual acceleration"
            ]
        },
        {
            "cell_type": "code",
            "execution_count": 107,
            "metadata": {},
            "outputs": [],
            "source": [
                "import pandas as pd\n",
                "import numpy as np\n",
                "import FileProcessing\n",
                "import ModelClass"
            ]
        },
        {
            "cell_type": "code",
            "execution_count": 108,
            "metadata": {},
            "outputs": [],
            "source": [
                "file=FileProcessing.FileProcessing()\n",
                "model_obj=ModelClass.ModelClass()"
            ]
        },
        {
            "cell_type": "code",
            "execution_count": 109,
            "metadata": {},
            "outputs": [],
            "source": [
                "delta_time=0.2\n",
                "timeSpans=[0.1,0.2,0.3,0.5,1,2,4]"
            ]
        },
        {
            "cell_type": "code",
            "execution_count": 110,
            "metadata": {},
            "outputs": [],
            "source": [
                "column_list=['delta_time','r_square_acc_cnn',\t'r_square_acc_knn',\t'r_square_acc_rf',\t'r_square_vel_cnn',\t'r_square_vel_knn',\t'r_square_vel_rf',\t'r_square_spacing_cnn',\t'r_square_spacing_knn',\t'r_square_spacing_rf',\t'r_square_jerk_cnn',\t'r_square_jerk_knn',\t'r_square_jerk_rf',\t'rmse_acc_cnn',\t'rmse_acc_knn',\t'rmse_acc_rf',\t'rmse_vel_cnn',\t'rmse_vel_knn',\t'rmse_vel_rf'\t,'rmse_spacing_cnn',\t'rmse_spacing_knn',\t'rmse_spacing_rf',\t'rmse_jerk_cnn',\t'rmse_jerk_knn',\t'rmse_jerk_rf']\n",
                "df=pd.DataFrame(columns=column_list)"
            ]
        },
        {
            "cell_type": "code",
            "execution_count": 111,
            "metadata": {},
            "outputs": [],
            "source": [
                "from sklearn.metrics import mean_absolute_error, r2_score, mean_squared_error\n",
                "def accuracy(df, actual, predicted):\n",
                "    R2_score = r2_score(df[actual], df[predicted],force_finite=False)\n",
                "    RMSE = np.sqrt(mean_squared_error(df[actual], df[predicted]))\n",
                "    return R2_score, RMSE"
            ]
        },
        {
            "cell_type": "code",
            "execution_count": null,
            "metadata": {},
            "outputs": [],
            "source": []
        },
        {
            "cell_type": "code",
            "execution_count": 112,
            "metadata": {},
            "outputs": [
                {
                    "data": {
                        "text/plain": [
                            "\"\\ndelta_time=0.1\\nfile_name='Test_set_Predited_data_' +str(delta_time)\\nprediction_set=file.read_input(file_name)\\npredicted_data=prediction_set.filter(regex=r'(predicted|next)') \\npredicted_data=predicted_data.fillna(0)\\ndf=pd.DataFrame(columns=column_list)\\n\""
                        ]
                    },
                    "execution_count": 112,
                    "metadata": {},
                    "output_type": "execute_result"
                }
            ],
            "source": [
                "'''\n",
                "delta_time=0.1\n",
                "file_name='Test_set_Predited_data_' +str(delta_time)\n",
                "prediction_set=file.read_input(file_name)\n",
                "predicted_data=prediction_set.filter(regex=r'(predicted|next)') \n",
                "predicted_data=predicted_data.fillna(0)\n",
                "df=pd.DataFrame(columns=column_list)\n",
                "'''"
            ]
        },
        {
            "cell_type": "code",
            "execution_count": null,
            "metadata": {},
            "outputs": [],
            "source": []
        },
        {
            "cell_type": "code",
            "execution_count": 113,
            "metadata": {},
            "outputs": [
                {
                    "name": "stdout",
                    "output_type": "stream",
                    "text": [
                        "File Read Complete: c:\\Users\\StudentAccount\\Python\\Capstone\\gitcodelocation\\DataDrivenCarFollowing\\datadrivencarfollowing-v1\\data/Test_set_Predited_data_0.1.csv\n"
                    ]
                }
            ],
            "source": [
                "delta_time=0.1\n",
                "file_name='Test_set_Predited_data_' +str(delta_time)\n",
                "prediction_set=file.read_input(file_name)\n",
                "predicted_data=prediction_set.filter(regex=r'(predicted|next)') \n",
                "predicted_data=predicted_data.fillna(0)\n",
                "\n",
                "\n",
                "df.loc[0,'delta_time']=0.1\n",
                "\n",
                "df.loc[0,'r_square_acc_knn'], df.loc[0,'rmse_acc_knn'] = accuracy(predicted_data, 'nextframeAcc', 'knn_predicted_acceleration')\n",
                "df.loc[0,'r_square_acc_rf'], df.loc[0,'rmse_acc_rf'] = accuracy(predicted_data, 'nextframeAcc', 'rf_predicted_acceleration')\n",
                "df.loc[0,'r_square_acc_cnn'], df.loc[0,'rmse_acc_cnn'] = accuracy(predicted_data, 'nextframeAcc', 'cnn_predicted_acceleration')\n",
                "\n",
                "df.loc[0,'r_square_vel_knn'], df.loc[0,'rmse_vel_knn'] = accuracy(predicted_data, 'nextframesvel', 'knn_predicted_velocity')\n",
                "df.loc[0,'r_square_vel_rf'], df.loc[0,'rmse_vel_rf'] = accuracy(predicted_data, 'nextframesvel', 'rf_predicted_velocity')\n",
                "df.loc[0,'r_square_vel_cnn'], df.loc[0,'rmse_vel_cnn'] = accuracy(predicted_data, 'nextframesvel', 'cnn_predicted_velocity')\n",
                "\n",
                "df.loc[0,'r_square_jerk_knn'], df.loc[0,'rmse_jerk_knn'] = accuracy(predicted_data, 'nextframejerk', 'knn_predicted_jerk')\n",
                "df.loc[0,'r_square_jerk_rf'], df.loc[0,'rmse_jerk_rf'] = accuracy(predicted_data, 'nextframejerk', 'rf_predicted_jerk')\n",
                "df.loc[0,'r_square_jerk_cnn'], df.loc[0,'rmse_jerk_cnn'] = accuracy(predicted_data, 'nextframejerk', 'cnn_predicted_jerk')\n",
                "\n",
                "df.loc[0,'r_square_spacing_knn'], df.loc[0,'rmse_spacing_knn'] = accuracy(predicted_data, 'nextFrameSpacing', 'knn_predicted_spacing')\n",
                "df.loc[0,'r_square_spacing_rf'], df.loc[0,'rmse_spacing_rf'] = accuracy(predicted_data, 'nextFrameSpacing', 'rf_predicted_spacing')\n",
                "df.loc[0,'r_square_spacing_cnn'], df.loc[0,'rmse_spacing_cnn'] = accuracy(predicted_data, 'nextFrameSpacing', 'cnn_predicted_spacing')\n"
            ]
        },
        {
            "cell_type": "code",
            "execution_count": 114,
            "metadata": {},
            "outputs": [
                {
                    "name": "stdout",
                    "output_type": "stream",
                    "text": [
                        "File Read Complete: c:\\Users\\StudentAccount\\Python\\Capstone\\gitcodelocation\\DataDrivenCarFollowing\\datadrivencarfollowing-v1\\data/Test_set_Predited_data_0.2.csv\n"
                    ]
                }
            ],
            "source": [
                "delta_time=0.2\n",
                "file_name='Test_set_Predited_data_' +str(delta_time)\n",
                "prediction_set=file.read_input(file_name)\n",
                "predicted_data=prediction_set.filter(regex=r'(predicted|next)') \n",
                "predicted_data=predicted_data.fillna(0)\n",
                "\n",
                "\n",
                "df.loc[1,'delta_time']=0.2\n",
                "\n",
                "df.loc[1,'r_square_acc_knn'], df.loc[1,'rmse_acc_knn'] = accuracy(predicted_data, 'nextframeAcc', 'knn_predicted_acceleration')\n",
                "df.loc[1,'r_square_acc_rf'], df.loc[1,'rmse_acc_rf'] = accuracy(predicted_data, 'nextframeAcc', 'rf_predicted_acceleration')\n",
                "df.loc[1,'r_square_acc_cnn'], df.loc[1,'rmse_acc_cnn'] = accuracy(predicted_data, 'nextframeAcc', 'cnn_predicted_acceleration')\n",
                "\n",
                "df.loc[1,'r_square_vel_knn'], df.loc[1,'rmse_vel_knn'] = accuracy(predicted_data, 'nextframesvel', 'knn_predicted_velocity')\n",
                "df.loc[1,'r_square_vel_rf'], df.loc[1,'rmse_vel_rf'] = accuracy(predicted_data, 'nextframesvel', 'rf_predicted_velocity')\n",
                "df.loc[1,'r_square_vel_cnn'], df.loc[1,'rmse_vel_cnn'] = accuracy(predicted_data, 'nextframesvel', 'cnn_predicted_velocity')\n",
                "\n",
                "df.loc[1,'r_square_jerk_knn'], df.loc[1,'rmse_jerk_knn'] = accuracy(predicted_data, 'nextframejerk', 'knn_predicted_jerk')\n",
                "df.loc[1,'r_square_jerk_rf'], df.loc[1,'rmse_jerk_rf'] = accuracy(predicted_data, 'nextframejerk', 'rf_predicted_jerk')\n",
                "df.loc[1,'r_square_jerk_cnn'], df.loc[1,'rmse_jerk_cnn'] = accuracy(predicted_data, 'nextframejerk', 'cnn_predicted_jerk')\n",
                "\n",
                "df.loc[1,'r_square_spacing_knn'], df.loc[1,'rmse_spacing_knn'] = accuracy(predicted_data, 'nextFrameSpacing', 'knn_predicted_spacing')\n",
                "df.loc[1,'r_square_spacing_rf'], df.loc[1,'rmse_spacing_rf'] = accuracy(predicted_data, 'nextFrameSpacing', 'rf_predicted_spacing')\n",
                "df.loc[1,'r_square_spacing_cnn'], df.loc[1,'rmse_spacing_cnn'] = accuracy(predicted_data, 'nextFrameSpacing', 'cnn_predicted_spacing')"
            ]
        },
        {
            "cell_type": "code",
            "execution_count": 115,
            "metadata": {},
            "outputs": [
                {
                    "name": "stdout",
                    "output_type": "stream",
                    "text": [
                        "File Read Complete: c:\\Users\\StudentAccount\\Python\\Capstone\\gitcodelocation\\DataDrivenCarFollowing\\datadrivencarfollowing-v1\\data/Test_set_Predited_data_0.3.csv\n"
                    ]
                }
            ],
            "source": [
                "delta_time=0.3\n",
                "file_name='Test_set_Predited_data_' +str(delta_time)\n",
                "prediction_set=file.read_input(file_name)\n",
                "predicted_data=prediction_set.filter(regex=r'(predicted|next)') \n",
                "predicted_data=predicted_data.fillna(0)\n",
                "\n",
                "\n",
                "df.loc[2,'delta_time']=0.3\n",
                "\n",
                "df.loc[2,'r_square_acc_knn'], df.loc[2,'rmse_acc_knn'] = accuracy(predicted_data, 'nextframeAcc', 'knn_predicted_acceleration')\n",
                "df.loc[2,'r_square_acc_rf'], df.loc[2,'rmse_acc_rf'] = accuracy(predicted_data, 'nextframeAcc', 'rf_predicted_acceleration')\n",
                "df.loc[2,'r_square_acc_cnn'], df.loc[2,'rmse_acc_cnn'] = accuracy(predicted_data, 'nextframeAcc', 'cnn_predicted_acceleration')\n",
                "\n",
                "df.loc[2,'r_square_vel_knn'], df.loc[2,'rmse_vel_knn'] = accuracy(predicted_data, 'nextframesvel', 'knn_predicted_velocity')\n",
                "df.loc[2,'r_square_vel_rf'], df.loc[2,'rmse_vel_rf'] = accuracy(predicted_data, 'nextframesvel', 'rf_predicted_velocity')\n",
                "df.loc[2,'r_square_vel_cnn'], df.loc[2,'rmse_vel_cnn'] = accuracy(predicted_data, 'nextframesvel', 'cnn_predicted_velocity')\n",
                "\n",
                "df.loc[2,'r_square_jerk_knn'], df.loc[2,'rmse_jerk_knn'] = accuracy(predicted_data, 'nextframejerk', 'knn_predicted_jerk')\n",
                "df.loc[2,'r_square_jerk_rf'], df.loc[2,'rmse_jerk_rf'] = accuracy(predicted_data, 'nextframejerk', 'rf_predicted_jerk')\n",
                "df.loc[2,'r_square_jerk_cnn'], df.loc[2,'rmse_jerk_cnn'] = accuracy(predicted_data, 'nextframejerk', 'cnn_predicted_jerk')\n",
                "\n",
                "df.loc[2,'r_square_spacing_knn'], df.loc[2,'rmse_spacing_knn'] = accuracy(predicted_data, 'nextFrameSpacing', 'knn_predicted_spacing')\n",
                "df.loc[2,'r_square_spacing_rf'], df.loc[2,'rmse_spacing_rf'] = accuracy(predicted_data, 'nextFrameSpacing', 'rf_predicted_spacing')\n",
                "df.loc[2,'r_square_spacing_cnn'], df.loc[2,'rmse_spacing_cnn'] = accuracy(predicted_data, 'nextFrameSpacing', 'cnn_predicted_spacing')"
            ]
        },
        {
            "cell_type": "code",
            "execution_count": 116,
            "metadata": {},
            "outputs": [
                {
                    "name": "stdout",
                    "output_type": "stream",
                    "text": [
                        "File Read Complete: c:\\Users\\StudentAccount\\Python\\Capstone\\gitcodelocation\\DataDrivenCarFollowing\\datadrivencarfollowing-v1\\data/Test_set_Predited_data_0.5.csv\n"
                    ]
                }
            ],
            "source": [
                "delta_time=0.5\n",
                "file_name='Test_set_Predited_data_' +str(delta_time)\n",
                "prediction_set=file.read_input(file_name)\n",
                "predicted_data=prediction_set.filter(regex=r'(predicted|next)') \n",
                "predicted_data=predicted_data.fillna(0)\n",
                "\n",
                "df.loc[3,'delta_time']=0.5\n",
                "\n",
                "df.loc[3,'r_square_acc_knn'], df.loc[3,'rmse_acc_knn'] = accuracy(predicted_data, 'nextframeAcc', 'knn_predicted_acceleration')\n",
                "df.loc[3,'r_square_acc_rf'], df.loc[3,'rmse_acc_rf'] = accuracy(predicted_data, 'nextframeAcc', 'rf_predicted_acceleration')\n",
                "df.loc[3,'r_square_acc_cnn'], df.loc[3,'rmse_acc_cnn'] = accuracy(predicted_data, 'nextframeAcc', 'cnn_predicted_acceleration')\n",
                "\n",
                "df.loc[3,'r_square_vel_knn'], df.loc[3,'rmse_vel_knn'] = accuracy(predicted_data, 'nextframesvel', 'knn_predicted_velocity')\n",
                "df.loc[3,'r_square_vel_rf'], df.loc[3,'rmse_vel_rf'] = accuracy(predicted_data, 'nextframesvel', 'rf_predicted_velocity')\n",
                "df.loc[3,'r_square_vel_cnn'], df.loc[3,'rmse_vel_cnn'] = accuracy(predicted_data, 'nextframesvel', 'cnn_predicted_velocity')\n",
                "\n",
                "df.loc[3,'r_square_jerk_knn'], df.loc[3,'rmse_jerk_knn'] = accuracy(predicted_data, 'nextframejerk', 'knn_predicted_jerk')\n",
                "df.loc[3,'r_square_jerk_rf'], df.loc[3,'rmse_jerk_rf'] = accuracy(predicted_data, 'nextframejerk', 'rf_predicted_jerk')\n",
                "df.loc[3,'r_square_jerk_cnn'], df.loc[3,'rmse_jerk_cnn'] = accuracy(predicted_data, 'nextframejerk', 'cnn_predicted_jerk')\n",
                "\n",
                "df.loc[3,'r_square_spacing_knn'], df.loc[3,'rmse_spacing_knn'] = accuracy(predicted_data, 'nextFrameSpacing', 'knn_predicted_spacing')\n",
                "df.loc[3,'r_square_spacing_rf'], df.loc[3,'rmse_spacing_rf'] = accuracy(predicted_data, 'nextFrameSpacing', 'rf_predicted_spacing')\n",
                "df.loc[3,'r_square_spacing_cnn'], df.loc[3,'rmse_spacing_cnn'] = accuracy(predicted_data, 'nextFrameSpacing', 'cnn_predicted_spacing')"
            ]
        },
        {
            "cell_type": "code",
            "execution_count": 117,
            "metadata": {},
            "outputs": [
                {
                    "name": "stdout",
                    "output_type": "stream",
                    "text": [
                        "File Read Complete: c:\\Users\\StudentAccount\\Python\\Capstone\\gitcodelocation\\DataDrivenCarFollowing\\datadrivencarfollowing-v1\\data/Test_set_Predited_data_1.csv\n"
                    ]
                }
            ],
            "source": [
                "delta_time=1\n",
                "file_name='Test_set_Predited_data_' +str(delta_time)\n",
                "prediction_set=file.read_input(file_name)\n",
                "predicted_data=prediction_set.filter(regex=r'(predicted|next)') \n",
                "predicted_data=predicted_data.fillna(0)\n",
                "\n",
                "df.loc[4,'delta_time']=1\n",
                "\n",
                "df.loc[4,'r_square_acc_knn'], df.loc[4,'rmse_acc_knn'] = accuracy(predicted_data, 'nextframeAcc', 'knn_predicted_acceleration')\n",
                "df.loc[4,'r_square_acc_rf'], df.loc[4,'rmse_acc_rf'] = accuracy(predicted_data, 'nextframeAcc', 'rf_predicted_acceleration')\n",
                "df.loc[4,'r_square_acc_cnn'], df.loc[4,'rmse_acc_cnn'] = accuracy(predicted_data, 'nextframeAcc', 'cnn_predicted_acceleration')\n",
                "\n",
                "df.loc[4,'r_square_vel_knn'], df.loc[4,'rmse_vel_knn'] = accuracy(predicted_data, 'nextframesvel', 'knn_predicted_velocity')\n",
                "df.loc[4,'r_square_vel_rf'], df.loc[4,'rmse_vel_rf'] = accuracy(predicted_data, 'nextframesvel', 'rf_predicted_velocity')\n",
                "df.loc[4,'r_square_vel_cnn'], df.loc[4,'rmse_vel_cnn'] = accuracy(predicted_data, 'nextframesvel', 'cnn_predicted_velocity')\n",
                "\n",
                "df.loc[4,'r_square_jerk_knn'], df.loc[4,'rmse_jerk_knn'] = accuracy(predicted_data, 'nextframejerk', 'knn_predicted_jerk')\n",
                "df.loc[4,'r_square_jerk_rf'], df.loc[4,'rmse_jerk_rf'] = accuracy(predicted_data, 'nextframejerk', 'rf_predicted_jerk')\n",
                "df.loc[4,'r_square_jerk_cnn'], df.loc[4,'rmse_jerk_cnn'] = accuracy(predicted_data, 'nextframejerk', 'cnn_predicted_jerk')\n",
                "\n",
                "df.loc[4,'r_square_spacing_knn'], df.loc[4,'rmse_spacing_knn'] = accuracy(predicted_data, 'nextFrameSpacing', 'knn_predicted_spacing')\n",
                "df.loc[4,'r_square_spacing_rf'], df.loc[4,'rmse_spacing_rf'] = accuracy(predicted_data, 'nextFrameSpacing', 'rf_predicted_spacing')\n",
                "df.loc[4,'r_square_spacing_cnn'], df.loc[4,'rmse_spacing_cnn'] = accuracy(predicted_data, 'nextFrameSpacing', 'cnn_predicted_spacing')"
            ]
        },
        {
            "cell_type": "code",
            "execution_count": 118,
            "metadata": {},
            "outputs": [
                {
                    "name": "stdout",
                    "output_type": "stream",
                    "text": [
                        "File Read Complete: c:\\Users\\StudentAccount\\Python\\Capstone\\gitcodelocation\\DataDrivenCarFollowing\\datadrivencarfollowing-v1\\data/Test_set_Predited_data_2.csv\n"
                    ]
                }
            ],
            "source": [
                "delta_time=2\n",
                "file_name='Test_set_Predited_data_' +str(delta_time)\n",
                "prediction_set=file.read_input(file_name)\n",
                "predicted_data=prediction_set.filter(regex=r'(predicted|next)') \n",
                "predicted_data=predicted_data.fillna(0)\n",
                "\n",
                "\n",
                "df.loc[5,'delta_time']=2\n",
                "\n",
                "df.loc[5,'r_square_acc_knn'], df.loc[5,'rmse_acc_knn'] = accuracy(predicted_data, 'nextframeAcc', 'knn_predicted_acceleration')\n",
                "df.loc[5,'r_square_acc_rf'], df.loc[5,'rmse_acc_rf'] = accuracy(predicted_data, 'nextframeAcc', 'rf_predicted_acceleration')\n",
                "df.loc[5,'r_square_acc_cnn'], df.loc[5,'rmse_acc_cnn'] = accuracy(predicted_data, 'nextframeAcc', 'cnn_predicted_acceleration')\n",
                "\n",
                "df.loc[5,'r_square_vel_knn'], df.loc[5,'rmse_vel_knn'] = accuracy(predicted_data, 'nextframesvel', 'knn_predicted_velocity')\n",
                "df.loc[5,'r_square_vel_rf'], df.loc[5,'rmse_vel_rf'] = accuracy(predicted_data, 'nextframesvel', 'rf_predicted_velocity')\n",
                "df.loc[5,'r_square_vel_cnn'], df.loc[5,'rmse_vel_cnn'] = accuracy(predicted_data, 'nextframesvel', 'cnn_predicted_velocity')\n",
                "\n",
                "df.loc[5,'r_square_jerk_knn'], df.loc[5,'rmse_jerk_knn'] = accuracy(predicted_data, 'nextframejerk', 'knn_predicted_jerk')\n",
                "df.loc[5,'r_square_jerk_rf'], df.loc[5,'rmse_jerk_rf'] = accuracy(predicted_data, 'nextframejerk', 'rf_predicted_jerk')\n",
                "df.loc[5,'r_square_jerk_cnn'], df.loc[5,'rmse_jerk_cnn'] = accuracy(predicted_data, 'nextframejerk', 'cnn_predicted_jerk')\n",
                "\n",
                "df.loc[5,'r_square_spacing_knn'], df.loc[5,'rmse_spacing_knn'] = accuracy(predicted_data, 'nextFrameSpacing', 'knn_predicted_spacing')\n",
                "df.loc[5,'r_square_spacing_rf'], df.loc[5,'rmse_spacing_rf'] = accuracy(predicted_data, 'nextFrameSpacing', 'rf_predicted_spacing')\n",
                "df.loc[5,'r_square_spacing_cnn'], df.loc[5,'rmse_spacing_cnn'] = accuracy(predicted_data, 'nextFrameSpacing', 'cnn_predicted_spacing')"
            ]
        },
        {
            "cell_type": "code",
            "execution_count": 119,
            "metadata": {},
            "outputs": [
                {
                    "name": "stdout",
                    "output_type": "stream",
                    "text": [
                        "File Read Complete: c:\\Users\\StudentAccount\\Python\\Capstone\\gitcodelocation\\DataDrivenCarFollowing\\datadrivencarfollowing-v1\\data/Test_set_Predited_data_4.csv\n"
                    ]
                }
            ],
            "source": [
                "delta_time=4\n",
                "file_name='Test_set_Predited_data_' +str(delta_time)\n",
                "prediction_set=file.read_input(file_name)\n",
                "predicted_data=prediction_set.filter(regex=r'(predicted|next)') \n",
                "predicted_data=predicted_data.fillna(0)\n",
                "\n",
                "df.loc[6,'delta_time']=4\n",
                "\n",
                "df.loc[6,'r_square_acc_knn'], df.loc[6,'rmse_acc_knn'] = accuracy(predicted_data, 'nextframeAcc', 'knn_predicted_acceleration')\n",
                "df.loc[6,'r_square_acc_rf'], df.loc[6,'rmse_acc_rf'] = accuracy(predicted_data, 'nextframeAcc', 'rf_predicted_acceleration')\n",
                "df.loc[6,'r_square_acc_cnn'], df.loc[6,'rmse_acc_cnn'] = accuracy(predicted_data, 'nextframeAcc', 'cnn_predicted_acceleration')\n",
                "\n",
                "df.loc[6,'r_square_vel_knn'], df.loc[6,'rmse_vel_knn'] = accuracy(predicted_data, 'nextframesvel', 'knn_predicted_velocity')\n",
                "df.loc[6,'r_square_vel_rf'], df.loc[6,'rmse_vel_rf'] = accuracy(predicted_data, 'nextframesvel', 'rf_predicted_velocity')\n",
                "df.loc[6,'r_square_vel_cnn'], df.loc[6,'rmse_vel_cnn'] = accuracy(predicted_data, 'nextframesvel', 'cnn_predicted_velocity')\n",
                "\n",
                "df.loc[6,'r_square_jerk_knn'], df.loc[6,'rmse_jerk_knn'] = accuracy(predicted_data, 'nextframejerk', 'knn_predicted_jerk')\n",
                "df.loc[6,'r_square_jerk_rf'], df.loc[6,'rmse_jerk_rf'] = accuracy(predicted_data, 'nextframejerk', 'rf_predicted_jerk')\n",
                "df.loc[6,'r_square_jerk_cnn'], df.loc[6,'rmse_jerk_cnn'] = accuracy(predicted_data, 'nextframejerk', 'cnn_predicted_jerk')\n",
                "\n",
                "df.loc[6,'r_square_spacing_knn'], df.loc[6,'rmse_spacing_knn'] = accuracy(predicted_data, 'nextFrameSpacing', 'knn_predicted_spacing')\n",
                "df.loc[6,'r_square_spacing_rf'], df.loc[6,'rmse_spacing_rf'] = accuracy(predicted_data, 'nextFrameSpacing', 'rf_predicted_spacing')\n",
                "df.loc[6,'r_square_spacing_cnn'], df.loc[6,'rmse_spacing_cnn'] = accuracy(predicted_data, 'nextFrameSpacing', 'cnn_predicted_spacing')"
            ]
        },
        {
            "cell_type": "code",
            "execution_count": 120,
            "metadata": {},
            "outputs": [
                {
                    "data": {
                        "text/html": [
                            "<div>\n",
                            "<style scoped>\n",
                            "    .dataframe tbody tr th:only-of-type {\n",
                            "        vertical-align: middle;\n",
                            "    }\n",
                            "\n",
                            "    .dataframe tbody tr th {\n",
                            "        vertical-align: top;\n",
                            "    }\n",
                            "\n",
                            "    .dataframe thead th {\n",
                            "        text-align: right;\n",
                            "    }\n",
                            "</style>\n",
                            "<table border=\"1\" class=\"dataframe\">\n",
                            "  <thead>\n",
                            "    <tr style=\"text-align: right;\">\n",
                            "      <th></th>\n",
                            "      <th>delta_time</th>\n",
                            "      <th>r_square_acc_cnn</th>\n",
                            "      <th>r_square_acc_knn</th>\n",
                            "      <th>r_square_acc_rf</th>\n",
                            "      <th>r_square_vel_cnn</th>\n",
                            "      <th>r_square_vel_knn</th>\n",
                            "      <th>r_square_vel_rf</th>\n",
                            "      <th>r_square_spacing_cnn</th>\n",
                            "      <th>r_square_spacing_knn</th>\n",
                            "      <th>r_square_spacing_rf</th>\n",
                            "      <th>...</th>\n",
                            "      <th>rmse_acc_rf</th>\n",
                            "      <th>rmse_vel_cnn</th>\n",
                            "      <th>rmse_vel_knn</th>\n",
                            "      <th>rmse_vel_rf</th>\n",
                            "      <th>rmse_spacing_cnn</th>\n",
                            "      <th>rmse_spacing_knn</th>\n",
                            "      <th>rmse_spacing_rf</th>\n",
                            "      <th>rmse_jerk_cnn</th>\n",
                            "      <th>rmse_jerk_knn</th>\n",
                            "      <th>rmse_jerk_rf</th>\n",
                            "    </tr>\n",
                            "  </thead>\n",
                            "  <tbody>\n",
                            "    <tr>\n",
                            "      <th>0</th>\n",
                            "      <td>0.1</td>\n",
                            "      <td>0.068564</td>\n",
                            "      <td>-0.120719</td>\n",
                            "      <td>-0.118031</td>\n",
                            "      <td>0.238631</td>\n",
                            "      <td>0.701803</td>\n",
                            "      <td>0.808566</td>\n",
                            "      <td>-11137.438922</td>\n",
                            "      <td>-9920.674537</td>\n",
                            "      <td>-10684.262826</td>\n",
                            "      <td>...</td>\n",
                            "      <td>1.458724</td>\n",
                            "      <td>3.452682</td>\n",
                            "      <td>2.160778</td>\n",
                            "      <td>1.731285</td>\n",
                            "      <td>987.539611</td>\n",
                            "      <td>932.040639</td>\n",
                            "      <td>967.241597</td>\n",
                            "      <td>19.434338</td>\n",
                            "      <td>20.96074</td>\n",
                            "      <td>21.032389</td>\n",
                            "    </tr>\n",
                            "    <tr>\n",
                            "      <th>1</th>\n",
                            "      <td>0.2</td>\n",
                            "      <td>0.064796</td>\n",
                            "      <td>-0.127295</td>\n",
                            "      <td>-0.112768</td>\n",
                            "      <td>0.820075</td>\n",
                            "      <td>-3.970832</td>\n",
                            "      <td>0.836564</td>\n",
                            "      <td>-10157.122346</td>\n",
                            "      <td>-12612.480946</td>\n",
                            "      <td>-10636.543436</td>\n",
                            "      <td>...</td>\n",
                            "      <td>1.454863</td>\n",
                            "      <td>1.678697</td>\n",
                            "      <td>8.823509</td>\n",
                            "      <td>1.599931</td>\n",
                            "      <td>943.151506</td>\n",
                            "      <td>1050.974602</td>\n",
                            "      <td>965.151336</td>\n",
                            "      <td>19.44715</td>\n",
                            "      <td>20.951791</td>\n",
                            "      <td>21.051291</td>\n",
                            "    </tr>\n",
                            "    <tr>\n",
                            "      <th>2</th>\n",
                            "      <td>0.3</td>\n",
                            "      <td>0.070613</td>\n",
                            "      <td>-0.235761</td>\n",
                            "      <td>-0.08493</td>\n",
                            "      <td>0.710275</td>\n",
                            "      <td>-38.579096</td>\n",
                            "      <td>0.83228</td>\n",
                            "      <td>-10896.338771</td>\n",
                            "      <td>-23754.767986</td>\n",
                            "      <td>-10626.968145</td>\n",
                            "      <td>...</td>\n",
                            "      <td>1.435918</td>\n",
                            "      <td>2.130538</td>\n",
                            "      <td>24.901703</td>\n",
                            "      <td>1.621021</td>\n",
                            "      <td>976.938814</td>\n",
                            "      <td>1442.419802</td>\n",
                            "      <td>964.788816</td>\n",
                            "      <td>19.439795</td>\n",
                            "      <td>20.827307</td>\n",
                            "      <td>20.819905</td>\n",
                            "    </tr>\n",
                            "    <tr>\n",
                            "      <th>3</th>\n",
                            "      <td>0.5</td>\n",
                            "      <td>0.073699</td>\n",
                            "      <td>-0.130465</td>\n",
                            "      <td>-0.048681</td>\n",
                            "      <td>0.499818</td>\n",
                            "      <td>-11.956876</td>\n",
                            "      <td>-0.091183</td>\n",
                            "      <td>-11036.288192</td>\n",
                            "      <td>-14430.942938</td>\n",
                            "      <td>-11323.264696</td>\n",
                            "      <td>...</td>\n",
                            "      <td>1.410946</td>\n",
                            "      <td>2.800233</td>\n",
                            "      <td>14.252149</td>\n",
                            "      <td>4.135986</td>\n",
                            "      <td>983.343621</td>\n",
                            "      <td>1124.440592</td>\n",
                            "      <td>996.045367</td>\n",
                            "      <td>19.419977</td>\n",
                            "      <td>20.732164</td>\n",
                            "      <td>20.485238</td>\n",
                            "    </tr>\n",
                            "    <tr>\n",
                            "      <th>4</th>\n",
                            "      <td>1</td>\n",
                            "      <td>0.061859</td>\n",
                            "      <td>-0.111844</td>\n",
                            "      <td>-0.056067</td>\n",
                            "      <td>0.601335</td>\n",
                            "      <td>0.709864</td>\n",
                            "      <td>0.489825</td>\n",
                            "      <td>-10998.488412</td>\n",
                            "      <td>-11067.854509</td>\n",
                            "      <td>-11065.916248</td>\n",
                            "      <td>...</td>\n",
                            "      <td>1.4138</td>\n",
                            "      <td>2.501726</td>\n",
                            "      <td>2.134204</td>\n",
                            "      <td>2.830056</td>\n",
                            "      <td>982.047012</td>\n",
                            "      <td>985.138688</td>\n",
                            "      <td>985.05243</td>\n",
                            "      <td>19.396457</td>\n",
                            "      <td>20.643153</td>\n",
                            "      <td>20.318435</td>\n",
                            "    </tr>\n",
                            "    <tr>\n",
                            "      <th>5</th>\n",
                            "      <td>2</td>\n",
                            "      <td>0.027844</td>\n",
                            "      <td>-0.274225</td>\n",
                            "      <td>-0.102879</td>\n",
                            "      <td>0.746957</td>\n",
                            "      <td>0.155434</td>\n",
                            "      <td>-0.021544</td>\n",
                            "      <td>-10937.918516</td>\n",
                            "      <td>-10911.870477</td>\n",
                            "      <td>-11196.100709</td>\n",
                            "      <td>...</td>\n",
                            "      <td>1.440346</td>\n",
                            "      <td>1.996221</td>\n",
                            "      <td>3.646939</td>\n",
                            "      <td>4.010887</td>\n",
                            "      <td>980.152881</td>\n",
                            "      <td>978.985203</td>\n",
                            "      <td>991.652291</td>\n",
                            "      <td>19.338747</td>\n",
                            "      <td>20.468288</td>\n",
                            "      <td>20.420425</td>\n",
                            "    </tr>\n",
                            "    <tr>\n",
                            "      <th>6</th>\n",
                            "      <td>4</td>\n",
                            "      <td>-0.003632</td>\n",
                            "      <td>-0.313602</td>\n",
                            "      <td>-0.12059</td>\n",
                            "      <td>0.101634</td>\n",
                            "      <td>-53.08162</td>\n",
                            "      <td>-0.348253</td>\n",
                            "      <td>-11438.006761</td>\n",
                            "      <td>-32316.262511</td>\n",
                            "      <td>-11452.575981</td>\n",
                            "      <td>...</td>\n",
                            "      <td>1.446584</td>\n",
                            "      <td>3.77503</td>\n",
                            "      <td>29.289947</td>\n",
                            "      <td>4.624656</td>\n",
                            "      <td>1003.837161</td>\n",
                            "      <td>1687.277028</td>\n",
                            "      <td>1004.476224</td>\n",
                            "      <td>19.302611</td>\n",
                            "      <td>19.946245</td>\n",
                            "      <td>20.382983</td>\n",
                            "    </tr>\n",
                            "  </tbody>\n",
                            "</table>\n",
                            "<p>7 rows × 25 columns</p>\n",
                            "</div>"
                        ],
                        "text/plain": [
                            "  delta_time r_square_acc_cnn r_square_acc_knn r_square_acc_rf  \\\n",
                            "0        0.1         0.068564        -0.120719       -0.118031   \n",
                            "1        0.2         0.064796        -0.127295       -0.112768   \n",
                            "2        0.3         0.070613        -0.235761        -0.08493   \n",
                            "3        0.5         0.073699        -0.130465       -0.048681   \n",
                            "4          1         0.061859        -0.111844       -0.056067   \n",
                            "5          2         0.027844        -0.274225       -0.102879   \n",
                            "6          4        -0.003632        -0.313602        -0.12059   \n",
                            "\n",
                            "  r_square_vel_cnn r_square_vel_knn r_square_vel_rf r_square_spacing_cnn  \\\n",
                            "0         0.238631         0.701803        0.808566        -11137.438922   \n",
                            "1         0.820075        -3.970832        0.836564        -10157.122346   \n",
                            "2         0.710275       -38.579096         0.83228        -10896.338771   \n",
                            "3         0.499818       -11.956876       -0.091183        -11036.288192   \n",
                            "4         0.601335         0.709864        0.489825        -10998.488412   \n",
                            "5         0.746957         0.155434       -0.021544        -10937.918516   \n",
                            "6         0.101634        -53.08162       -0.348253        -11438.006761   \n",
                            "\n",
                            "  r_square_spacing_knn r_square_spacing_rf  ... rmse_acc_rf rmse_vel_cnn  \\\n",
                            "0         -9920.674537       -10684.262826  ...    1.458724     3.452682   \n",
                            "1        -12612.480946       -10636.543436  ...    1.454863     1.678697   \n",
                            "2        -23754.767986       -10626.968145  ...    1.435918     2.130538   \n",
                            "3        -14430.942938       -11323.264696  ...    1.410946     2.800233   \n",
                            "4        -11067.854509       -11065.916248  ...      1.4138     2.501726   \n",
                            "5        -10911.870477       -11196.100709  ...    1.440346     1.996221   \n",
                            "6        -32316.262511       -11452.575981  ...    1.446584      3.77503   \n",
                            "\n",
                            "  rmse_vel_knn rmse_vel_rf rmse_spacing_cnn rmse_spacing_knn rmse_spacing_rf  \\\n",
                            "0     2.160778    1.731285       987.539611       932.040639      967.241597   \n",
                            "1     8.823509    1.599931       943.151506      1050.974602      965.151336   \n",
                            "2    24.901703    1.621021       976.938814      1442.419802      964.788816   \n",
                            "3    14.252149    4.135986       983.343621      1124.440592      996.045367   \n",
                            "4     2.134204    2.830056       982.047012       985.138688       985.05243   \n",
                            "5     3.646939    4.010887       980.152881       978.985203      991.652291   \n",
                            "6    29.289947    4.624656      1003.837161      1687.277028     1004.476224   \n",
                            "\n",
                            "  rmse_jerk_cnn rmse_jerk_knn rmse_jerk_rf  \n",
                            "0     19.434338      20.96074    21.032389  \n",
                            "1      19.44715     20.951791    21.051291  \n",
                            "2     19.439795     20.827307    20.819905  \n",
                            "3     19.419977     20.732164    20.485238  \n",
                            "4     19.396457     20.643153    20.318435  \n",
                            "5     19.338747     20.468288    20.420425  \n",
                            "6     19.302611     19.946245    20.382983  \n",
                            "\n",
                            "[7 rows x 25 columns]"
                        ]
                    },
                    "execution_count": 120,
                    "metadata": {},
                    "output_type": "execute_result"
                }
            ],
            "source": [
                "df"
            ]
        },
        {
            "cell_type": "code",
            "execution_count": 121,
            "metadata": {},
            "outputs": [],
            "source": [
                "df.to_csv(\"r2.csv\")"
            ]
        }
    ],
    "metadata": {
        "kernelspec": {
            "display_name": "Python 3.8.13 ('Project')",
            "language": "python",
            "name": "python3"
        },
        "language_info": {
            "codemirror_mode": {
                "name": "ipython",
                "version": 3
            },
            "file_extension": ".py",
            "mimetype": "text/x-python",
            "name": "python",
            "nbconvert_exporter": "python",
            "pygments_lexer": "ipython3",
            "version": "3.8.13"
        },
        "orig_nbformat": 4,
        "vscode": {
            "interpreter": {
                "hash": "32f9b5c64a9ffdfd44c75ce715a0c18d651d70bac5b5e0fedf911a0bbec25f03"
            }
        }
    },
    "nbformat": 4,
    "nbformat_minor": 2
}
